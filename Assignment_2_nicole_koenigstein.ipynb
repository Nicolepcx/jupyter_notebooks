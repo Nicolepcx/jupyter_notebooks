{
 "cells": [
  {
   "cell_type": "markdown",
   "metadata": {},
   "source": [
    "# Assignment 2 / Author Profiling -- Gender and Age"
   ]
  },
  {
   "cell_type": "code",
   "execution_count": 2,
   "metadata": {},
   "outputs": [],
   "source": [
    "import numpy as np\n",
    "import pandas as pd\n",
    "from sklearn.metrics import confusion_matrix\n",
    "import nltk\n",
    "from nltk.stem import PorterStemmer \n",
    "from nltk.tokenize import word_tokenize\n",
    "from nltk.classify import apply_features\n",
    "from nltk.corpus import stopwords\n",
    "import string\n",
    "from nltk.classify.scikitlearn import SklearnClassifier\n",
    "from sklearn.naive_bayes import MultinomialNB,BernoulliNB,ComplementNB\n",
    "import nltk.metrics\n",
    "from sklearn.feature_extraction.text import TfidfTransformer\n",
    "from sklearn.metrics import accuracy_score\n",
    "from sklearn.metrics import classification_report\n",
    "from sklearn.feature_extraction.text import TfidfVectorizer\n",
    "from nltk.stem.snowball import SnowballStemmer\n",
    "from sklearn.preprocessing import LabelEncoder\n"
   ]
  },
  {
   "cell_type": "markdown",
   "metadata": {},
   "source": [
    "## Daten einlesen"
   ]
  },
  {
   "cell_type": "code",
   "execution_count": 13,
   "metadata": {},
   "outputs": [],
   "source": [
    "messages = pd.read_csv('Messages_train.csv', sep=',')"
   ]
  },
  {
   "cell_type": "code",
   "execution_count": 14,
   "metadata": {},
   "outputs": [
    {
     "data": {
      "text/html": [
       "<div>\n",
       "<style>\n",
       "    .dataframe thead tr:only-child th {\n",
       "        text-align: right;\n",
       "    }\n",
       "\n",
       "    .dataframe thead th {\n",
       "        text-align: left;\n",
       "    }\n",
       "\n",
       "    .dataframe tbody tr th {\n",
       "        vertical-align: top;\n",
       "    }\n",
       "</style>\n",
       "<table border=\"1\" class=\"dataframe\">\n",
       "  <thead>\n",
       "    <tr style=\"text-align: right;\">\n",
       "      <th></th>\n",
       "      <th>id</th>\n",
       "      <th>text</th>\n",
       "      <th>person_gender</th>\n",
       "      <th>person_age</th>\n",
       "    </tr>\n",
       "  </thead>\n",
       "  <tbody>\n",
       "    <tr>\n",
       "      <th>0</th>\n",
       "      <td>117808</td>\n",
       "      <td>The particular DKNY bags are among the leading...</td>\n",
       "      <td>male</td>\n",
       "      <td>20s</td>\n",
       "    </tr>\n",
       "    <tr>\n",
       "      <th>1</th>\n",
       "      <td>5634</td>\n",
       "      <td>Dental implants are posts made of titanium tha...</td>\n",
       "      <td>female</td>\n",
       "      <td>30s</td>\n",
       "    </tr>\n",
       "    <tr>\n",
       "      <th>2</th>\n",
       "      <td>94820</td>\n",
       "      <td>&lt;p style=\"text-align:center;]&lt;a href=\"http://e...</td>\n",
       "      <td>female</td>\n",
       "      <td>20s</td>\n",
       "    </tr>\n",
       "    <tr>\n",
       "      <th>3</th>\n",
       "      <td>64510</td>\n",
       "      <td>The primary business I joined was the Gospel N...</td>\n",
       "      <td>male</td>\n",
       "      <td>20s</td>\n",
       "    </tr>\n",
       "    <tr>\n",
       "      <th>4</th>\n",
       "      <td>89288</td>\n",
       "      <td>Taking QR Codes to Another Level&lt;br /&gt;QR Codes...</td>\n",
       "      <td>female</td>\n",
       "      <td>30s</td>\n",
       "    </tr>\n",
       "  </tbody>\n",
       "</table>\n",
       "</div>"
      ],
      "text/plain": [
       "       id                                               text person_gender  \\\n",
       "0  117808  The particular DKNY bags are among the leading...          male   \n",
       "1    5634  Dental implants are posts made of titanium tha...        female   \n",
       "2   94820  <p style=\"text-align:center;]<a href=\"http://e...        female   \n",
       "3   64510  The primary business I joined was the Gospel N...          male   \n",
       "4   89288  Taking QR Codes to Another Level<br />QR Codes...        female   \n",
       "\n",
       "  person_age  \n",
       "0        20s  \n",
       "1        30s  \n",
       "2        20s  \n",
       "3        20s  \n",
       "4        30s  "
      ]
     },
     "execution_count": 14,
     "metadata": {},
     "output_type": "execute_result"
    }
   ],
   "source": [
    "messages.head()"
   ]
  },
  {
   "cell_type": "code",
   "execution_count": 31,
   "metadata": {},
   "outputs": [
    {
     "name": "stdout",
     "output_type": "stream",
     "text": [
      "Gender : male   Age class : 20s\n",
      "\n",
      "The particular DKNY bags are among the leading choices of many of the stars each local and also international, politicians, celebrities, tycoons, as well as the designs. These items feature an exceptional sort of style which can be nevertheless way too hard to face up to. As soon as a single units the girl eyes about the most recent design, she'll definitely desire owning that. This kind of brand is really reputable and renowned that over the years, the merchandise are becoming much sought after\n"
     ]
    }
   ],
   "source": [
    "print('Gender :', messages['person_gender'][0] , '  Age class :',messages['person_age'][0] )\n",
    "print()\n",
    "print( messages['text'][0][:500] )"
   ]
  },
  {
   "cell_type": "code",
   "execution_count": 11,
   "metadata": {},
   "outputs": [
    {
     "name": "stdout",
     "output_type": "stream",
     "text": [
      "(400, 100) (100, 100)\n",
      "Gender accuracy 0.59\n",
      "Age accuracy 0.57\n",
      "\n",
      "Confusion Matrix :\n",
      "[[10 34]\n",
      " [ 7 49]]\n",
      "Accuracy Score : 0.59\n",
      "Report: \n",
      "              precision    recall  f1-score   support\n",
      "\n",
      "      female       0.59      0.23      0.33        44\n",
      "        male       0.59      0.88      0.71        56\n",
      "\n",
      "   micro avg       0.59      0.59      0.59       100\n",
      "   macro avg       0.59      0.55      0.52       100\n",
      "weighted avg       0.59      0.59      0.54       100\n",
      "\n",
      "Mean:\n",
      "0.59\n",
      "\n",
      "Confusion Matrix :\n",
      "[[ 0  0 15]\n",
      " [ 0  0 28]\n",
      " [ 0  0 57]]\n",
      "Accuracy Score : 0.57\n",
      "Report: \n",
      "              precision    recall  f1-score   support\n",
      "\n",
      "         10s       0.00      0.00      0.00        15\n",
      "         20s       0.00      0.00      0.00        28\n",
      "         30s       0.57      1.00      0.73        57\n",
      "\n",
      "   micro avg       0.57      0.57      0.57       100\n",
      "   macro avg       0.19      0.33      0.24       100\n",
      "weighted avg       0.32      0.57      0.41       100\n",
      "\n",
      "Mean:\n",
      "0.57\n"
     ]
    },
    {
     "name": "stderr",
     "output_type": "stream",
     "text": [
      "/anaconda3/lib/python3.6/site-packages/sklearn/metrics/classification.py:1143: UndefinedMetricWarning: Precision and F-score are ill-defined and being set to 0.0 in labels with no predicted samples.\n",
      "  'precision', 'predicted', average, warn_for)\n"
     ]
    }
   ],
   "source": [
    "df = pd.read_csv(\"Messages_train.csv\", encoding = \"latin-1\",nrows=500)\n",
    "stop = stopwords.words('english')\n",
    "# stemmer_snowball = SnowballStemmer('english')\n",
    "df['text_without_stopwords'] = df['text'].apply(lambda x: ' '.join([word.lower() for word in x.split() if word.isalpha() and word.lower() not in (stop)]))\n",
    "df['text_without_stopwords'].str.replace('[{}]'.format(string.punctuation), '')\n",
    "df['text_without_stopwords'].dropna(inplace=True)\n",
    "df['gender_age'] = df[['person_gender', 'person_age']].apply(lambda x: ''.join(x), axis=1)\n",
    "\n",
    "\n",
    "X_train = df.loc[:399, 'text_without_stopwords'].values\n",
    "y_train_gender = df.loc[:399, 'person_gender'].values\n",
    "\n",
    "y_train_age = df.loc[:399, 'person_age'].values\n",
    "X_test = df.loc[400:, 'text_without_stopwords'].values\n",
    "\n",
    "y_test_gender = df.loc[400:, 'person_gender'].values\n",
    "y_test_age = df.loc[400:, 'person_age'].values\n",
    "\n",
    "\n",
    "vectorizer = TfidfVectorizer(analyzer='word', \n",
    "                             max_features=100, \n",
    "                             sublinear_tf=True)\n",
    "\n",
    "train_vectors = vectorizer.fit_transform(X_train)\n",
    "test_vectors = vectorizer.transform(X_test)\n",
    "print(train_vectors.shape, test_vectors.shape)\n",
    "\n",
    "# classifier with naive bayes\n",
    "#from sklearn.naive_bayes import MultinomialNB\n",
    "clf_gender= MultinomialNB().fit(train_vectors, y_train_gender)\n",
    "clf_age = MultinomialNB().fit(train_vectors, y_train_age)\n",
    "           \n",
    "#clf_gender= ComplementNB().fit(train_vectors, y_train_gender)\n",
    "#clf_age = ComplementNB().fit(train_vectors, y_train_age)\n",
    "\n",
    "\n",
    "predicted_gender = clf_gender.predict(test_vectors)\n",
    "predicted_age=clf_age.predict(test_vectors)\n",
    "print(\"Gender accuracy\",accuracy_score(y_test_gender,predicted_gender))\n",
    "print(\"Age accuracy\",accuracy_score(y_test_age,predicted_age))\n",
    "\n",
    "\n",
    "# classifier with SVM\n",
    "#SVM = svm.SVC(C=1.0, kernel='linear', degree=3, gamma='auto')\n",
    "#clf_gender_svm = SVM.fit(train_vectors, y_train_gender)\n",
    "#clf_age_svm = SVM.fit(train_vectors, y_train_age)\n",
    "\n",
    "#predicted_gender_svm = SVM.predict(test_vectors)\n",
    "#predicted_age_svm = SVM.predict(test_vectors)\n",
    "#print()\n",
    "#print('with SVM:')\n",
    "#print(\"Gender accuracy\",accuracy_score(y_test_gender,predicted_gender_svm))\n",
    "# print(\"Age accuracy\",accuracy_score(y_test_age,predicted_age_svm))\n",
    "\n",
    "\n",
    "# creating a confusion matrix for Gender\n",
    "results = confusion_matrix(y_test_gender, predicted_gender) \n",
    "print('\\nConfusion Matrix :')\n",
    "print(results) \n",
    "print('Accuracy Score :',accuracy_score(y_test_gender, predicted_gender))\n",
    "print('Report: ')\n",
    "print(classification_report(y_test_gender, predicted_gender))\n",
    "\n",
    "print('Mean:')\n",
    "print(np.mean(predicted_gender == y_test_gender))\n",
    "\n",
    "# creating a confusion matrix for Age\n",
    "results = confusion_matrix(y_test_age, predicted_age) \n",
    "print('\\nConfusion Matrix :')\n",
    "print(results) \n",
    "print('Accuracy Score :',accuracy_score(y_test_age, predicted_age))\n",
    "print('Report: ')\n",
    "print(classification_report(y_test_age, predicted_age))\n",
    "print('Mean:')\n",
    "print(np.mean(predicted_age == y_test_age))\n",
    "\n",
    "\n"
   ]
  },
  {
   "cell_type": "code",
   "execution_count": 21,
   "metadata": {},
   "outputs": [
    {
     "name": "stdout",
     "output_type": "stream",
     "text": [
      "(400, 11510) (100, 11510)\n",
      "Combined accuracy of Gender and Age 0.31\n",
      "Confusion Matrix :\n",
      "[[ 0  0  4  0  0  1]\n",
      " [ 0  0  4  0  0  3]\n",
      " [ 0  0 25  0  0  7]\n",
      " [ 0  0  9  0  0  1]\n",
      " [ 0  0 13  0  0  8]\n",
      " [ 0  0 19  0  0  6]]\n",
      "Accuracy Score : 0.31\n",
      "Report : \n",
      "              precision    recall  f1-score   support\n",
      "\n",
      "   female10s       0.00      0.00      0.00         5\n",
      "   female20s       0.00      0.00      0.00         7\n",
      "   female30s       0.34      0.78      0.47        32\n",
      "     male10s       0.00      0.00      0.00        10\n",
      "     male20s       0.00      0.00      0.00        21\n",
      "     male30s       0.23      0.24      0.24        25\n",
      "\n",
      "   micro avg       0.31      0.31      0.31       100\n",
      "   macro avg       0.09      0.17      0.12       100\n",
      "weighted avg       0.17      0.31      0.21       100\n",
      "\n"
     ]
    },
    {
     "name": "stderr",
     "output_type": "stream",
     "text": [
      "/anaconda3/lib/python3.6/site-packages/sklearn/metrics/classification.py:1143: UndefinedMetricWarning: Precision and F-score are ill-defined and being set to 0.0 in labels with no predicted samples.\n",
      "  'precision', 'predicted', average, warn_for)\n"
     ]
    }
   ],
   "source": [
    "X_train = df.loc[:399, 'text_without_stopwords'].values\n",
    "y_train = df.loc[:399, 'gender_age'].values\n",
    "X_test = df.loc[400:, 'text_without_stopwords'].values\n",
    "y_test = df.loc[400:, 'gender_age'].values\n",
    "\n",
    "vectorizer = TfidfVectorizer()\n",
    "train_vectors = vectorizer.fit_transform(X_train)\n",
    "test_vectors = vectorizer.transform(X_test)\n",
    "print(train_vectors.shape, test_vectors.shape)\n",
    "\n",
    "from sklearn.naive_bayes import MultinomialNB\n",
    "clf= MultinomialNB().fit(train_vectors, y_train)\n",
    "\n",
    "predicted = clf.predict(test_vectors)\n",
    "\n",
    "print(\"Combined accuracy of Gender and Age\",accuracy_score(y_test,predicted))\n",
    "\n",
    "\n",
    "# creating a confusion matrix for Gender\n",
    "results = confusion_matrix(y_test, predicted) \n",
    "print('Confusion Matrix :')\n",
    "print(results) \n",
    "print('Accuracy Score :',accuracy_score(y_test, predicted))\n",
    "print('Report : ')\n",
    "print(classification_report(y_test, predicted))\n",
    "\n"
   ]
  },
  {
   "cell_type": "markdown",
   "metadata": {},
   "source": [
    "## Features"
   ]
  },
  {
   "cell_type": "code",
   "execution_count": 22,
   "metadata": {},
   "outputs": [
    {
     "name": "stdout",
     "output_type": "stream",
     "text": [
      "Length of feature set 500\n",
      "Length of training set 400\n",
      "Length of testing set 100\n"
     ]
    }
   ],
   "source": [
    "def find_features(top_words, text):\n",
    "    feature = {}\n",
    "    for word in top_words:\n",
    "        feature[word] = word in text.lower()\n",
    "    return feature\n",
    "\n",
    "bag_of_words = []\n",
    "for txt in df['text_without_stopwords']:\n",
    "    for words in txt.split():\n",
    "        bag_of_words.append(words)\n",
    "        \n",
    "# get top 4000 words which will act as our features of each sentence\n",
    "bag_of_words = nltk.FreqDist(bag_of_words)\n",
    "top_words = []\n",
    "for word in bag_of_words.most_common(10000):\n",
    "    top_words.append(word[0])\n",
    "top_words[:10]\n",
    "text_gender = []\n",
    "c=0\n",
    "all_genders=df['person_gender']\n",
    "for txt in df['text_without_stopwords']:\n",
    "    all_gender=all_genders[c]   \n",
    "    text_gender.append((txt, all_gender))\n",
    "    c+=1\n",
    "    \n",
    "# creating the feature set, training set and the testing set\n",
    "feature_set = [(find_features(top_words, text), gender) for (text, gender) in text_gender]\n",
    "training_set = feature_set[:int(len(feature_set)*4/5)]\n",
    "testing_set = feature_set[int(len(feature_set)*4/5):]\n",
    "\n",
    "print(\"Length of feature set\", len(feature_set))\n",
    "print(\"Length of training set\", len(training_set))\n",
    "print(\"Length of testing set\", len(testing_set))\n",
    "\n"
   ]
  },
  {
   "cell_type": "code",
   "execution_count": 23,
   "metadata": {},
   "outputs": [
    {
     "name": "stdout",
     "output_type": "stream",
     "text": [
      "Naive Bayes Classifier accuracy = 59.0\n",
      "Most Informative Features\n",
      "                       n = False            male : female =      7.0 : 1.0\n",
      "             nonetheless = True           female : male   =      6.9 : 1.0\n",
      "                 burning = True           female : male   =      6.8 : 1.0\n",
      "                repeated = True           female : male   =      6.8 : 1.0\n",
      "             inexpensive = True           female : male   =      6.8 : 1.0\n",
      "                       r = False            male : female =      6.4 : 1.0\n",
      "                    burn = True           female : male   =      6.0 : 1.0\n",
      "                 driving = True           female : male   =      6.0 : 1.0\n",
      "                 chances = True           female : male   =      6.0 : 1.0\n",
      "         recommendations = True           female : male   =      6.0 : 1.0\n",
      "                  repeat = True           female : male   =      5.5 : 1.0\n",
      "                 monitor = True           female : male   =      5.2 : 1.0\n",
      "                 airport = True           female : male   =      5.2 : 1.0\n",
      "                 written = True           female : male   =      5.2 : 1.0\n",
      "                    worn = True           female : male   =      5.2 : 1.0\n",
      "             combination = True           female : male   =      5.2 : 1.0\n",
      "                    oral = True           female : male   =      5.2 : 1.0\n",
      "               advisable = True           female : male   =      5.2 : 1.0\n",
      "                   grate = True           female : male   =      5.2 : 1.0\n",
      "              procedures = True           female : male   =      5.2 : 1.0\n",
      "                 playing = True           female : male   =      5.2 : 1.0\n",
      "                   adopt = True           female : male   =      5.2 : 1.0\n",
      "                     seo = True           female : male   =      5.2 : 1.0\n",
      "                 parents = True           female : male   =      5.2 : 1.0\n",
      "                contract = True           female : male   =      5.0 : 1.0\n",
      "                 vitamin = True             male : female =      4.7 : 1.0\n",
      "                 central = True             male : female =      4.7 : 1.0\n",
      "               mentioned = True             male : female =      4.5 : 1.0\n",
      "                  reader = True           female : male   =      4.4 : 1.0\n",
      "               suffering = True           female : male   =      4.4 : 1.0\n",
      "                    cham = True           female : male   =      4.4 : 1.0\n",
      "                 rewards = True           female : male   =      4.4 : 1.0\n",
      "                 sharing = True           female : male   =      4.4 : 1.0\n",
      "                marriage = True           female : male   =      4.4 : 1.0\n",
      "                  sudden = True           female : male   =      4.4 : 1.0\n",
      "                ointment = True           female : male   =      4.4 : 1.0\n",
      "                 century = True           female : male   =      4.4 : 1.0\n",
      "                    cute = True           female : male   =      4.4 : 1.0\n",
      "                 dynamic = True           female : male   =      4.4 : 1.0\n",
      "                     odd = True           female : male   =      4.4 : 1.0\n"
     ]
    }
   ],
   "source": [
    "# creating a classifier using both Gender and Age groups \n",
    "NB_classifier = nltk.NaiveBayesClassifier.train(training_set)\n",
    "accuracy = nltk.classify.accuracy(NB_classifier, testing_set)*100\n",
    "print(\"Naive Bayes Classifier accuracy =\", accuracy)\n",
    "NB_classifier.show_most_informative_features(40)"
   ]
  },
  {
   "cell_type": "code",
   "execution_count": null,
   "metadata": {},
   "outputs": [],
   "source": []
  }
 ],
 "metadata": {
  "kernelspec": {
   "display_name": "Python 3",
   "language": "python",
   "name": "python3"
  },
  "language_info": {
   "codemirror_mode": {
    "name": "ipython",
    "version": 3
   },
   "file_extension": ".py",
   "mimetype": "text/x-python",
   "name": "python",
   "nbconvert_exporter": "python",
   "pygments_lexer": "ipython3",
   "version": "3.6.8"
  }
 },
 "nbformat": 4,
 "nbformat_minor": 1
}
