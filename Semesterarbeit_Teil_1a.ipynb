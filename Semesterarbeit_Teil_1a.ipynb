{
 "cells": [
  {
   "cell_type": "markdown",
   "metadata": {},
   "source": [
    "## Semesterarbeit Teil 1a Rekursion mit Python anhand der Fibonacci-Folge\n"
   ]
  },
  {
   "cell_type": "markdown",
   "metadata": {},
   "source": [
    "<div style=\"text-align: right\">*von Nicole Königstein* </div>"
   ]
  },
  {
   "cell_type": "markdown",
   "metadata": {},
   "source": [
    "### Aufgabenstellung:\n",
    "\n",
    "1. Implementieren Sie eine Python-Funktion fib(n) , die die n-te Fibonacci-Zahl bestimmt.\n",
    "2. Eine naive Implementierung setzt die obige Rekursionsgleichung direkt um. Schreiben Sie eine weitere Python-Funktion, die berechnet, wie viele Funktionsaufrufe on fib notwendig sind, um die n-te Fibonacci-Zahl zu berechnen.\n",
    "3. Vergleichen Sie die Anzahl der Funktionsaufrufe von fib zur Bestimmung einer Fibonacci-Zahl mit den Fibonacci-Zahlen selber. Können Sie eine Vermutung aufstellen?\n",
    "4. Verwenden Sie die Funktion time() aus dem Modul time, um zu bestimmen, wie lange die Funktion fib benötigt, um eine Fibonacci-Zahl zu bestimmen.\n",
    "5. Implementieren Sie eine weitere Python-Funktion zur Berechnung der n-ten Fibonacci-Zahl, die möglichst effizient ist. (Hinweis: das kann rekursiv oder iterativ gelöst werden.)\n",
    "<br>\n"
   ]
  },
  {
   "cell_type": "markdown",
   "metadata": {},
   "source": [
    "<br>\n",
    "#### Die Fibonacci-Zahlen setzten sich wie folgt zusammen:  \n",
    "<br>\n",
    "\n",
    "![title](img/Zahlenstrahl.png)\n",
    "<br>"
   ]
  },
  {
   "cell_type": "markdown",
   "metadata": {},
   "source": [
    "#### Mathematisch, als Folge, stellt man dies wie folgt dar:\n",
    "\n",
    "$\\{F_n\\}_{n=1}^\\infty$\n",
    "\n",
    "$$F_n = F_{n-1} + F_{n-2}$$\n",
    "mit $F_1 = F_2 = 1$   $F_0 = 0$."
   ]
  },
  {
   "cell_type": "markdown",
   "metadata": {},
   "source": [
    "#### Intersanterweise lassen sich die Fibonacci-Zahlen auch durch den goldenen Schnitt berechnen, welcher ca. <b> 1.618034...</b> ist."
   ]
  },
  {
   "cell_type": "markdown",
   "metadata": {},
   "source": [
    "![title](img/fibonacci_squares.png)\n",
    "<br>\n",
    "<center>Fibonacci-Rechtecke </center>"
   ]
  },
  {
   "cell_type": "markdown",
   "metadata": {},
   "source": [
    "[Quelle: Math is fun](http://www.mathsisfun.com/numbers/fibonacci-sequence.html)"
   ]
  },
  {
   "cell_type": "markdown",
   "metadata": {},
   "source": [
    "#### Im folgenden der Beweis durch die <b>vollständige Induktion</b>, dass sich die Fibonacci-Zahlen durch den goldenen Schnitt berechnen lassen:\n"
   ]
  },
  {
   "cell_type": "markdown",
   "metadata": {},
   "source": [
    "Sei $\\phi=\\dfrac{\\sqrt{5}+1}2$ und $\\phi^{-1} =\\dfrac 1\\phi= \\dfrac{\\sqrt{5}-1}2$ sowie $1+\\dfrac 1\\phi=\\phi$ und $1-\\phi=-\\dfrac 1\\phi$"
   ]
  },
  {
   "cell_type": "markdown",
   "metadata": {},
   "source": [
    "##### Für n = k und n = k -1"
   ]
  },
  {
   "cell_type": "markdown",
   "metadata": {},
   "source": [
    "$F_n=\\_\\frac1{\\sqrt5}{\\lbrack{\\phi^n-(-\\frac1\\phi)^n}\\rbrack}$"
   ]
  },
  {
   "cell_type": "markdown",
   "metadata": {},
   "source": [
    "$\\begin{matrix} F_{ k } & =\\frac { 1 }{ \\sqrt { 5 }  } \\left[ \\phi ^{ k }-(-\\frac { 1 }{ \\phi  } )^{ k } \\right]  \\\\ F_{ k-1 } & =\\frac { 1 }{ \\sqrt { 5 }  } \\left[ \\phi ^{ k-1 }-(-\\frac { 1 }{ \\phi  } )^{ k-1 } \\right]  \\\\  & =\\frac { 1 }{ \\sqrt { 5 }  } \\left[ \\phi ^{ k }\\cdot \\frac { 1 }{ \\phi  } -(-\\frac { 1 }{ \\phi  } )^{ k }\\cdot (-\\phi ) \\right]  \\\\  &  \\end{matrix}$"
   ]
  },
  {
   "cell_type": "markdown",
   "metadata": {},
   "source": [
    "##### Für n = k+1"
   ]
  },
  {
   "cell_type": "markdown",
   "metadata": {},
   "source": [
    "$\\begin{align}\n",
    "F_{k+1}&=F_{k}+F_{k-1}\\\\\n",
    "&=\\frac 1{\\sqrt{5}} \\left[\\phi^k \\cdot \\left( 1+\\frac 1\\phi \\right) \n",
    "-(-\\frac 1\\phi)^k \\cdot \\left( 1-\\phi \\right)\\right]\\\\\n",
    "&=\\frac 1{\\sqrt{5}} \\left[\\phi^k \\cdot \\phi \n",
    "-(-\\frac 1\\phi)^k \\cdot \\left( -\\frac 1\\phi \\right)\\right]\\\\\n",
    "&=\\frac 1{\\sqrt{5}} \\left[\\phi^{k+1}-(-\\frac 1\\phi)^{k+1} \\right]\n",
    "\\end{align}$"
   ]
  },
  {
   "cell_type": "markdown",
   "metadata": {},
   "source": [
    "Die obige Berechnung zeigt, dass die Formel für n = k -1, n = k sowie n = k+1 gilt."
   ]
  },
  {
   "cell_type": "markdown",
   "metadata": {},
   "source": [
    "Für n = 0 und für n = 1, $F_0=0$ und $F_1=1$; daraus folgt: $F_2=F_0+F_1=1$\n",
    "was bedeutet, dass dies für alle $n\\geq 2$ gilt."
   ]
  },
  {
   "cell_type": "markdown",
   "metadata": {},
   "source": [
    "##### Beweis: Sei n = 1:"
   ]
  },
  {
   "cell_type": "markdown",
   "metadata": {},
   "source": [
    "$\\begin{align*}\n",
    "F_1&=\\frac{(\\frac{1+\\sqrt{5}}{2})^{1}-(\\frac{1-\\sqrt{5}}{2})^{1}}{\\sqrt{5}}\\\\\n",
    "&=\\frac{\\frac{1+\\sqrt{5}}{2}-\\frac{1-\\sqrt{5}}{2}}{\\sqrt{5}}\\\\\n",
    "&=\\frac{\\frac{1+\\sqrt{5}-1+\\sqrt{5}}{2}}{\\sqrt{5}}\\\\\n",
    "&=\\frac{\\frac{\\sqrt{5}+\\sqrt{5}}{2}}{\\sqrt{5}}\\\\\n",
    "&=\\frac{\\frac{2\\sqrt{5}}{2}}{\\sqrt{5}}\\\\\n",
    "&=\\frac{{\\sqrt{5}}}{\\sqrt{5}}\\\\\n",
    "&=1\n",
    "\\end{align*}$"
   ]
  },
  {
   "cell_type": "markdown",
   "metadata": {},
   "source": [
    "##### Anahme:"
   ]
  },
  {
   "cell_type": "markdown",
   "metadata": {},
   "source": [
    "$\\begin{equation}\n",
    "F_k=\\frac{(\\frac{1+\\sqrt{5}}{2})^{k}-(\\frac{1-\\sqrt{5}}{2})^{k}}{\\sqrt{5}}\n",
    "\\end{equation}$"
   ]
  },
  {
   "cell_type": "markdown",
   "metadata": {},
   "source": [
    "##### Sowie: $F(k+1)=F(k)+F(k-1)$"
   ]
  },
  {
   "cell_type": "markdown",
   "metadata": {},
   "source": [
    "$\\begin{align*}\n",
    "F(k)+F(k-1)&=\\frac{(\\frac{1+\\sqrt{5}}{2})^{k}-(\\frac{1-\\sqrt{5}}{2})^{k}}{\\sqrt{5}}+\\frac{(\\frac{1+\\sqrt{5}}{2})^{k-1}-(\\frac{1-\\sqrt{5}}{2})^{k-1}}{\\sqrt{5}}\\\\\n",
    "&=\\frac{(\\frac{1+\\sqrt{5}}{2})^{k}+(\\frac{1+\\sqrt{5}}{2})^{k-1}-(\\frac{1-\\sqrt{5}}{2})^{k}-(\\frac{1-\\sqrt{5}}{2})^{k-1}}{\\sqrt{5}}\\\\\n",
    "&=\\frac{((\\frac{1+\\sqrt{5}}{2})+1)(\\frac{1+\\sqrt{5}}{2})^{k-1}-((\\frac{1-\\sqrt{5}}{2})+1)(\\frac{1-\\sqrt{5}}{2})^{k-1}}{\\sqrt{5}}\\\\\n",
    "&=\\frac{((\\frac{3+\\sqrt{5}}{2}))(\\frac{1+\\sqrt{5}}{2})^{k-1}-((\\frac{3-\\sqrt{5}}{2}))(\\frac{1-\\sqrt{5}}{2})^{k-1}}{\\sqrt{5}}\\\\\n",
    "&=\\frac{((\\frac{1+\\sqrt{5}}{2})^{2})(\\frac{1+\\sqrt{5}}{2})^{k-1}-((\\frac{1-\\sqrt{5}}{2})^{2})(\\frac{1-\\sqrt{5}}{2})^{k-1}}{\\sqrt{5}}\\\\\n",
    "&=\\frac{(\\frac{1+\\sqrt{5}}{2})^{k+1}-(\\frac{1-\\sqrt{5}}{2})^{k+1}}{\\sqrt{5}}\\hfill \n",
    "\\end{align*}$"
   ]
  },
  {
   "cell_type": "markdown",
   "metadata": {},
   "source": [
    "<hr>"
   ]
  },
  {
   "cell_type": "markdown",
   "metadata": {},
   "source": [
    "### 1. Rekursiv lassen sich die Fibonnacci-Zahlen in Python wie folgt berechnen:"
   ]
  },
  {
   "cell_type": "code",
   "execution_count": null,
   "metadata": {},
   "outputs": [],
   "source": [
    "def fib(n):\n",
    "\n",
    " if(n == 0):  #Base case\n",
    "  return 0\n",
    "\n",
    " elif(n == 1):\n",
    "  return 1\n",
    "\n",
    " else:\n",
    "  return fib(n-1) + fib(n-2)\n",
    "\n",
    "\n",
    "n = int(input(\"Geben Sie eine Zahl für das n-te Glied der Fibonacci-Folge ein: \"))\n",
    "\n",
    "print('\\n')\n",
    "print(\"Die Folge setzt wie folgt zusammen: \")\n",
    "\n",
    "for i in range(n):\n",
    " print(fib(i))\n",
    " \n",
    "print('\\n')\n",
    "print(\"Das Ergebnis Ihrer Eingabe des gesuchten n-ten Glied ist: \")\n",
    "print(fib(n))"
   ]
  },
  {
   "cell_type": "markdown",
   "metadata": {},
   "source": [
    "<br>\n",
    "### 2. Funktion um die Anzahl der Aufrufe für die Berechnung der n-ten Fibonacci-Zahl zu generieren:"
   ]
  },
  {
   "cell_type": "code",
   "execution_count": null,
   "metadata": {},
   "outputs": [],
   "source": [
    "# Funktion um die Anzahl der Aufrufe zu zählen. Hilfsmittel: diverse Foren\n",
    "\n",
    "def fibCount(base):\n",
    "\tdef fib(n, counter): # Funktion für die Fibonacci-Zahlen\n",
    "\t\tcounter[0] += 1\n",
    "\t\tif n in (0,1):\n",
    "\t\t\treturn n\n",
    "\t\treturn fib(n - 1, counter) + fib(n - 2, counter)\n",
    "\tcounter = [0]\n",
    "\tvalue = fib(base, counter)\n",
    "\treturn value, counter[0]\n",
    "\n",
    "\n",
    "def showFib(n, fib):\n",
    "\tvalue, calls = fib(n)\n",
    "\tprint(\"fib({0}) = {1} : {2} Aufrufe gemacht\".format(n, value, calls))\n",
    "\n",
    "\n",
    "def showFibRange(start, stop, fib):\n",
    "\tprint(fib.__name__)\n",
    "\tfor n in range(start, stop+1):\n",
    "\t\tshowFib(n, fib)\n",
    "\tprint('\\n')\n",
    "\n",
    "showFibRange(1, 10, fibCount)"
   ]
  },
  {
   "cell_type": "markdown",
   "metadata": {},
   "source": [
    "### 3. Vergleich der Funktionsaufrufe\n",
    "\n",
    "##### Analyse : \n",
    "* Die rekursive Berechung von Fibanacci-Zahlen ist vor allem bei hohen Zahlen nicht effizient. Es werden für das z. B. wie im obigigen Code-Beispiel für das 10te-Folgenglied 177 Funktionsaufrufe benötigt. Dies wird im folgenden Quellcode und deren zeitlichen Auswertungn verdeutlicht.   "
   ]
  },
  {
   "cell_type": "markdown",
   "metadata": {},
   "source": [
    "### 4. Untersuchung der Laufzeit von fib(n) (im folgenden als fibr dargestellt) als rekursive Funktion:\n",
    "<br>"
   ]
  },
  {
   "cell_type": "code",
   "execution_count": null,
   "metadata": {},
   "outputs": [],
   "source": [
    "from timeit import Timer\n",
    "\n",
    "# Hilfsmittel: Buch: Einführung in Python 3, Hanser-Verlag, Python how to Programm, Princeton \n",
    "# und www.geeksforgeeks.org\n",
    "\n",
    "\n",
    "# rekursive Funktion für die generierung von Fibonacci-Zahlen\n",
    "def fibr(n):\n",
    "\tif n == 0:\n",
    "\t\treturn 0\n",
    "\telif n == 1:\n",
    "\t\treturn 1\n",
    "\telse:\n",
    "\t\treturn fibr(n-1) + fibr(n-2)\n",
    "\n",
    "\n",
    "# iterative Funktion für die generierung von Fibonacci-Zahlen\n",
    "def fibi(n):\n",
    "\told, new = 0, 1\n",
    "\tif n == 0:\n",
    "\t\treturn 0\n",
    "\tfor i in range(n-1):\n",
    "\t\told, new = new, old + new\n",
    "\treturn new\n",
    "\n",
    "\n",
    "# Vergleich und Ausgabe der Unterschiedlichen Laufzeiten\n",
    "\n",
    "t1 = Timer(\"fibr(10)\",\"from __main__ import fibr\")\n",
    "\n",
    "for i in range(1,31):\n",
    "\ts = \"fibr(\" + str(i) + \")\"\n",
    "\tt1 = Timer(s,\"from __main__ import fibr\")\n",
    "\ttime1 = t1.timeit(1)\n",
    "\ts = \"fibi(\" + str(i) + \")\"\n",
    "\tt2 = Timer(s,\"from __main__ import fibi\")\n",
    "\ttime2 = t2.timeit(1)\n",
    "\tprint(\"n=%2d, Laufzeit (Fibonacci rekurssiv: %8.6f, Laufzeit Fibonacci iterative:  %7.6f\" % (i, time1, time2))"
   ]
  },
  {
   "cell_type": "markdown",
   "metadata": {},
   "source": [
    "#### Feststellung aufgrund der obigen Analyse der Laufzeit:\n",
    "Es lässt vermuten, dass bei der rekursiven Berechnung die Berechnungen wiederholt durchgeführt werden. Ein Berechnungsbaum lässt dies auf einen Blick erkennen. \n",
    "<br>\n",
    "![title](img/Berechnungsbaum.png)\n",
    "<br>\n",
    "<br>\n",
    "Eine mögliche Optimierung wäre die Zwischenspeicherung der bereits erhaltenen Resultate. Dies wir im Beispiel zum Fragepunkt 5 genau dargestellt: "
   ]
  },
  {
   "cell_type": "markdown",
   "metadata": {},
   "source": [
    "### 5. Optimierung der Laufzeit zu Suche der n-ten Fibonacci-Zahl:\n",
    "<br>"
   ]
  },
  {
   "cell_type": "code",
   "execution_count": null,
   "metadata": {},
   "outputs": [],
   "source": [
    "from timeit import Timer\n",
    "\n",
    "# Hilfsmittel: Buch: Einführung in Python 3, Hanser-Verlag, Python how to Programm, Princeton \n",
    "# und www.geeksforgeeks.org\n",
    "\n",
    "# rekursive Funktion für die generierung von Fibonacci-Zahlen\n",
    "def fibr(n):\n",
    "    if n == 0:\n",
    "        return 0\n",
    "    elif n == 1:\n",
    "        return 1\n",
    "    else:\n",
    "        return fibr(n-1) + fibr(n-2)\n",
    "\n",
    "\n",
    "# iterative Funktion für die generierung von Fibonacci-Zahlen\n",
    "def fibi(n):\n",
    "    old, new = 0, 1\n",
    "    if n == 0:\n",
    "        return 0\n",
    "    for i in range(n-1):\n",
    "        old, new = new, old + new\n",
    "    return new\n",
    "\n",
    "\n",
    "# Zwischenspeicherung der Ergebnisse in einem Dictonary um die Laufzeit zu optimieren\n",
    "memo = {0:0, 1:1}\n",
    "def fibm(n):\n",
    "    if not n in memo:\n",
    "        memo[n] = fibm(n-1) + fibm(n-2)\n",
    "    return memo[n]\n",
    "\n",
    "\n",
    "t1 = Timer(\"fibr(10)\",\"from __main__ import fibr\")\n",
    "\n",
    "for i in range(1,101):\n",
    "\ts = \"fibm(\" + str(i) + \")\"\n",
    "\tt1 = Timer(s,\"from __main__ import fibm\")\n",
    "\ttime1 = t1.timeit(1)\n",
    "\ts = \"fibi(\" + str(i) + \")\"\n",
    "\tt2 = Timer(s,\"from __main__ import fibi\")\n",
    "\ttime2 = t2.timeit(1)\n",
    "\tprint(\"n=%2d, Fibonacci rekurssiv mit Erinnerung: %8.6f, Fibonacci iterative:  %7.6f\" % (i, time1, time2))"
   ]
  },
  {
   "cell_type": "markdown",
   "metadata": {},
   "source": [
    "<b>Wie man an dem obigen Beispiel erkennen kann, gibt es die Möglichkeit, den rekursiven Code mit der Erweiterung von einem \"Dictonary\" zur Zwischenspeicherung zu beschleunigen. Am Anfang ist der Unterschied nicht signifikant. Aber wenn die Zahlen höher werden, lässt sich der Vorteil dieser Memorisation klar erkennen. Die ausgegebene Zeit ist je Funktion die Laufzeit für einen \"Durchgang\" in Sekunden.</b> "
   ]
  }
 ],
 "metadata": {
  "kernelspec": {
   "display_name": "Python 3",
   "language": "python",
   "name": "python3"
  },
  "language_info": {
   "codemirror_mode": {
    "name": "ipython",
    "version": 3
   },
   "file_extension": ".py",
   "mimetype": "text/x-python",
   "name": "python",
   "nbconvert_exporter": "python",
   "pygments_lexer": "ipython3",
   "version": "3.6.3"
  }
 },
 "nbformat": 4,
 "nbformat_minor": 2
}
