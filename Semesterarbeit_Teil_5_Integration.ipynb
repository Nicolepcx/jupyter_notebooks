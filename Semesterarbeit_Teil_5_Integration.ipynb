{
  "nbformat": 4,
  "nbformat_minor": 0,
  "metadata": {
    "colab": {
      "name": "Semesterarbeit Teil 5 - Integration.ipynb",
      "version": "0.3.2",
      "provenance": [],
      "collapsed_sections": []
    },
    "kernelspec": {
      "name": "python3",
      "display_name": "Python 3"
    }
  },
  "cells": [
    {
      "cell_type": "markdown",
      "metadata": {
        "id": "Ycdpy--4Dbql",
        "colab_type": "text"
      },
      "source": [
        "## Semesterarbeit Teil 5 - Numerische Integration und Abschluss\n"
      ]
    },
    {
      "cell_type": "markdown",
      "metadata": {
        "id": "ZrKcmukDDwCl",
        "colab_type": "text"
      },
      "source": [
        "<div style=\"text-align: right\">*von Nicole Königstein* </div>"
      ]
    },
    {
      "cell_type": "markdown",
      "metadata": {
        "id": "GqPCzWbFD3bV",
        "colab_type": "text"
      },
      "source": [
        "### Aufgabenstellung\n",
        "* Implementieren Sie die Trapezregel und die Simpsonsche Regel zur numerischen Bestimmung von bestimmten Integralen. <br>\n",
        "* Wenden Sie diese Algorithmen auf die Berechnung des Volumens eines Kreisrings an. (Ein Kreisring kann als Rotationskörper eines Kreises aufgefasst werden, wenn der Kreis sich vollständig oberhalb der x-Achse befindet und wenn er um die x-Achse rotiert wird. <br>\n",
        "* Vergleichen Sie die Genauigkeit dieser Approximationen miteinander und vergleichen Sie die Resultate mit den exakten Werten, die sie von Hand und mit mit Sympy bestimmen.\n",
        "<br>\n",
        "* Schließen Sie Ihre Semesterarbeit mit einer Diskussion des Einsatzes von Python für praxisbezogene Anwendungen ab.\n",
        "\n",
        "<br>\n",
        "<br>\n",
        "<br>\n",
        "\n"
      ]
    },
    {
      "cell_type": "markdown",
      "metadata": {
        "id": "a2sJY2qZt3Zi",
        "colab_type": "text"
      },
      "source": [
        "**Formel für die Trapezregel:** <br>\n",
        "<br>\n",
        "$\\int _{ a }^{ b }{ f\\left( x \\right) dx\\quad \\approx  } (b-a)\\cdot \\cfrac { f\\left( a \\right) +f\\left( b \\right)  }{ 2 } $\n",
        "\n",
        "\n",
        "\n",
        "---\n",
        "\n"
      ]
    },
    {
      "cell_type": "markdown",
      "metadata": {
        "id": "VcTad5PpusJ4",
        "colab_type": "text"
      },
      "source": [
        "**Formel für die zusammengesetzte Trapezregel:**\n",
        "<br>\n",
        "<br>\n",
        "\n",
        "$\\int _{ a }^{ b }{ f\\left( x \\right) dx\\quad \\approx  } \\cfrac { (b-a) }{ 2 } \\cdot \\left[ \\left( { f }_{ 0 }+{ f }_{ 1 } \\right) +\\left( { f }_{ 1 }+{ f }_{ 2 } \\right) +\\left( { f }_{ 2 }+{ f }_{ 3 } \\right) +...+\\left( { f }_{ n-1 }+{ f }_{ n } \\right)  \\right] \\\\ =\\cfrac { h }{ 2 } \\cdot \\left( { f }_{ 0 }+{ f }_{ n } \\right) +h\\cdot \\sum _{ k=1 }^{ n-1 }{ { f }_{ k } } \\\\ \\left[ a,b \\right] =\\left[ \\left( { f }_{ 0 },{ f }_{ 1 } \\right) \\cup \\left( { f }_{ 1 },{ f }_{ 2 } \\right) \\cup \\left( { f }_{ 2 },{ f }_{ 3 } \\right) \\cup ...\\cup \\left( { f }_{ n-1 },{ f }_{ n } \\right)  \\right] $\n",
        "\n",
        "<br>\n",
        "<br>\n",
        "Die Trapezregel ist nur bei linearen Funktionen exakt.\n",
        "\n",
        "\n",
        "---\n",
        "\n"
      ]
    },
    {
      "cell_type": "markdown",
      "metadata": {
        "id": "O-mdPISdx7yz",
        "colab_type": "text"
      },
      "source": [
        "**Formel für die Simsonregel:**\n",
        "<br>\n",
        "<br>\n",
        "$\\int _{ a }^{ b }{ f\\left( x \\right) dx\\quad \\approx  } \\cfrac { (b-a) }{ 6 } \\cdot \\left( f\\left( a \\right) +4f\\left( \\cfrac { a+b }{ 2 }  \\right) +f\\left( b \\right)  \\right) $\n",
        "<br>\n",
        "<br>\n",
        "\n",
        "---\n",
        "\n",
        "<br>\n",
        "\n",
        "**Formel für die zusammengesetzte Simsonregel:**\n",
        "<br>\n",
        "<br>\n",
        "\n",
        "$\\int _{ a }^{ b }{ f\\left( x \\right) dx\\quad \\approx  } \\cfrac { (b-a) }{ 6 } \\cdot \\left[ \\left( { f }_{ 0 }+4{ f }_{ 0.5 }+{ f }_{ 1 } \\right) +\\left( { f }_{ 1 }+4{ f }_{ 1.5 }+{ f }_{ 2 } \\right) +...+\\left( { f }_{ n-1 }+4{ f }_{ n-0.5 }+{ f }_{ n } \\right)  \\right] \\\\ =\\cfrac { h }{ 6 } \\cdot \\left( { f }_{ 0 }+4{ f }_{ 0.5 }+{ f }_{ n } \\right) +2\\cdot \\sum _{ k=1 }^{ n-1 }{ { f }_{ k } } +4\\cdot \\sum _{ k=1 }^{ n }{ { f }_{ k+0.5 } } \\\\ \\left[ a;b \\right] =\\left[ \\left( { f }_{ 0 };{ f }_{ 1 } \\right) \\cup \\left( { f }_{ 1 };{ f }_{ 2 } \\right) \\cup \\left( { f }_{ 2 };{ f }_{ 3 } \\right) \\cup ...\\cup \\left( { f }_{ n-1 };{ f }_{ n } \\right)  \\right] $\n",
        "<br>\n",
        "<br>\n",
        "Das Simspon-Verfahren liefert hingegen schon bei einer geringen \"Streifenanzahl\" sehr gute Nährungswerte."
      ]
    },
    {
      "cell_type": "markdown",
      "metadata": {
        "id": "UqyaP0AcDzyQ",
        "colab_type": "text"
      },
      "source": [
        "**Formel für den Kreis: **\n",
        "<br>\n",
        "<br>\n",
        "\n",
        "${ f }_{ 1 }\\left( x \\right) =\\quad 3\\quad +\\quad \\sqrt { 1-{ (x-4) }^{ 2 } } \\\\ $ <br> bzw. <br>\n",
        "${ f }_{ 2 }\\left( x \\right) =\\quad 3\\quad -\\quad \\sqrt { 1-{ (x-4) }^{ 2 } } $\n",
        "<br>\n",
        "<br>\n",
        "\n",
        "Das Volumen des Torus ergibt sich als Differenz des Rotationskörpers bezüglich ${ f }_{ 1 }$ und des Rotationskörpers bezüglich ${ f }_{ 2 }$. <br> Sowie müssen die Funktionen quadriert werden und mit $\\pi$ mulitpliziert werden. Daher ergibt sich folgende Volumenformel:\n",
        "\n",
        "<br>\n",
        "\n",
        "\n",
        "\n"
      ]
    },
    {
      "cell_type": "markdown",
      "metadata": {
        "id": "Jus5uwztAN8U",
        "colab_type": "text"
      },
      "source": [
        "${ V }_{ Torus }=\\pi \\cdot \\int _{ 3 }^{ 5 }{ ({ f }_{ 1 }^{ 2 }\\left( x \\right) -{ f }_{ 2 }^{ 2 }\\left( x \\right)  } )dx$\n",
        "\n",
        "<br>\n",
        "\n",
        "$=\\pi \\cdot \\int _{ 3 }^{ 5 }{ ((3+{ \\sqrt { { 1-(x-4) }^{ 2 } } ) }^{ 2 }-\\quad (3-{ \\sqrt { { 1-(x-4) }^{ 2 } } ) }^{ 2 } } )dx$\n",
        "\n",
        "<br>\n",
        "\n",
        "$=12\\pi \\cdot \\int _{ 3 }^{ 5 }{ { \\sqrt { { 1-(x-4) }^{ 2 } }}\\quad}dx$\n",
        "<br>\n",
        "<br>\n",
        "<br>\n",
        "Hieraus ergibt sich folgendes Volumen für den Torus: <br><br>\n",
        "${ V }_{ Torus }=6\\cdot { \\pi  }^{ 2 }\\approx 59.22\\quad VE$"
      ]
    },
    {
      "cell_type": "markdown",
      "metadata": {
        "id": "Uz_4rbaWnndV",
        "colab_type": "text"
      },
      "source": [
        "**Funktionen zur Auswahl für die Integralrechnung:**\n",
        "<br>\n",
        "<br>\n",
        "${ f }_{ 1 }\\left( x \\right) =\\quad -2x+1\\\\ $ <br>\n",
        "${ f }_{ 2 }\\left( x \\right) =\\quad \\cfrac { 1 }{ 2 } (4{ x }^{ 2 }+1)$ <br>\n",
        "$\\\\ { f }_{ 3 }\\left( x \\right) =12\\pi \\cdot \\sqrt { { 1-(x-4) }^{ 2 } } $ <br>"
      ]
    },
    {
      "cell_type": "code",
      "metadata": {
        "id": "xif1Xfr9L63n",
        "colab_type": "code",
        "outputId": "e156a5ce-46fb-46f3-f441-4d5da8f5a7a7",
        "colab": {
          "base_uri": "https://localhost:8080/",
          "height": 272
        }
      },
      "source": [
        "#!/usr/bin/env python3\n",
        "# -*- coding: utf-8 -*-\n",
        "\"\"\"\n",
        "Created on Sat May 19 16:40:36 2018\n",
        "\n",
        "@author: Nicole\n",
        "\"\"\"\n",
        "import math\n",
        "import scipy.integrate as integrate\n",
        "import scipy.special as special\n",
        "from scipy.integrate import quad\n",
        "\n",
        "# Funktionen zur Auswahl\n",
        "def equation1():\n",
        "    f = lambda x: -2*x+1 # Lineare Funktion\n",
        "    return f\n",
        "\n",
        "def equation2():\n",
        "    f = lambda x: (1+(4*x**2))**(0.5) \n",
        "    return f\n",
        "\n",
        "def equation3():\n",
        "    f = lambda x: 12*math.pi * math.sqrt(1-(x-4)**2) # Kreis rotiert um die x-Achse\n",
        "    return f\n",
        "\n",
        "\n",
        "# Trapezregel\n",
        "def trapezoid(f, a, b, n):\n",
        "    h = (b-a)/float(n) # finde Mittelpunkt\n",
        "    result = f(a) + f(b) #finde f(a) und f(b) \n",
        "\n",
        "    for i in range(1,n,1):\n",
        "        result = result + (2*(f(a + i*h))) # finden von 2*f(x)\n",
        "    result *= (h/2.0) #mulitplizieren mit dx/2.0\n",
        "\n",
        "    return result\n",
        "\n",
        "# Simpson'sche Regel\n",
        "def simpson(f, a, b, n):\n",
        "    h = (b-a)/float(n)\n",
        "    result = f(a) + f(b)\n",
        "\n",
        "    for i in range(1,n,1):\n",
        "        if(i%2 ==0):\n",
        "            result = result + (2*(f(a + i*h)))\n",
        "        else:\n",
        "            result = result + (4*(f(a + i*h)))\n",
        "    result *= (h/3.0)\n",
        "\n",
        "    return result\n",
        "  \n",
        "  \n",
        "# Integration durch SciPy\n",
        "def integrand(x):\n",
        "    return x**2\n",
        "\n",
        "ans, err = quad(integrand, 0, 1)  \n",
        "  \n",
        "\n",
        "\n",
        "#main function  \n",
        "def main():\n",
        "    \n",
        "    try:\n",
        "        response = input(\"Bitte wählen Sie eine der oben aufgelisteten Funktionen \\n\"\n",
        "                         + \"Bitte geben Sie eine Nr ein oder 'x' zum beenden: \")\n",
        "\n",
        "        while(response != \"x\"):\n",
        "\n",
        "            response = int(response)\n",
        "\n",
        "            a = int(input(\"\\nBitte geben Sie eine ganze Zahl für 'a'(Start des Intervals) an: \"))\n",
        "            b = int(input(\"\\nBitte geben Sie eine ganze Zahl für 'b'(Ende des Intervals) an: \"))\n",
        "            n = int(input(\"\\nBitte geben Sie eine ganze Zahl für 'n'(Anzahl der Streifen) ein: \"))\n",
        "\n",
        "            if(0<response<5):\n",
        "\n",
        "                print(\"\\n%-4s %-15s %-15s %-15s\\n\" % (\"n\", \"Trapezoid Rule\", \"Simpson's Rule\" , \"korrekte Berechnung\"))\n",
        "\n",
        "                for index in range(2,(n+1),2):\n",
        "                    if(response == 1):\n",
        "                        \n",
        "                        ansTrap = trapezoid(equation1(), a, b, index)\n",
        "                        ansSim = simpson(equation1(),a,b,index)\n",
        "                        ansInt, err = quad(equation1(),a,b)\n",
        "                        \n",
        "                    elif(response == 2):\n",
        "                        \n",
        "                        ansTrap = trapezoid(equation2(), a, b, index)\n",
        "                        ansSim = simpson(equation2(),a,b,index)\n",
        "                        ansInt, err = quad(equation2(),a,b)\n",
        "\n",
        "                    elif(response == 3):\n",
        "                       \n",
        "                        ansTrap = trapezoid(equation3(), a, b, index)\n",
        "                        ansSim = simpson(equation3(),a,b,index) \n",
        "                        ansInt, err = quad(equation3(),a,b)\n",
        "\n",
        "            else:\n",
        "                print(\"Falsche Eingabe! Sie müssen eine Zahl zwischen 1 und 3 eingeben!\")\n",
        "                \n",
        "            print(\"%-4i %-15.4f %-15.4f %-15.4f\\n\" % (index, ansTrap, ansSim, ansInt))    \n",
        "            \n",
        "            response = input(\"Bitte wählen Sie eine der oben aufgelisteten Funktionen \\n\"\n",
        "                         + \"Bitte geben Sie eine Nr ein oder 'x' zum beenden: \")\n",
        "\n",
        "    except ValueError:\n",
        "        print(\"\\nFalsche Eingabe, bitte versuchen Sie es nochmals: \\n\")\n",
        "        \n",
        "        \n",
        "    \n",
        "\n",
        "if __name__ == \"__main__\":\n",
        "    main()\n"
      ],
      "execution_count": 0,
      "outputs": [
        {
          "output_type": "stream",
          "text": [
            "Bitte wählen Sie eine der oben aufgelisteten Funktionen \n",
            "Bitte geben Sie eine Nr ein oder 'x' zum beenden: 3\n",
            "\n",
            "Bitte geben Sie eine ganze Zahl für 'a'(Start des Intervals) an: 3\n",
            "\n",
            "Bitte geben Sie eine ganze Zahl für 'b'(Ende des Intervals) an: 5\n",
            "\n",
            "Bitte geben Sie eine ganze Zahl für 'n'(Anzahl der Streifen) ein: 50\n",
            "\n",
            "n    Trapezoid Rule  Simpson's Rule  korrekte Berechnung\n",
            "\n",
            "50   59.0405         59.1483         59.2176        \n",
            "\n",
            "Bitte wählen Sie eine der oben aufgelisteten Funktionen \n",
            "Bitte geben Sie eine Nr ein oder 'x' zum beenden: x\n"
          ],
          "name": "stdout"
        }
      ]
    }
  ]
}