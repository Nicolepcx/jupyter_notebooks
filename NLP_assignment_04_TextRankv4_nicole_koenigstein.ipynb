{
 "cells": [
  {
   "cell_type": "markdown",
   "metadata": {},
   "source": [
    "# TextRank Algorithm implementation\n",
    "\n",
    "This notebook contains the implementation of **text summarization** using TextRank Algorithm. A complete description of it is provided on the paper:\n",
    "\n",
    "(include here the reference to the paper)"
   ]
  },
  {
   "cell_type": "markdown",
   "metadata": {},
   "source": [
    "## Import the necessary libraries\n",
    "\n",
    "To summarize a text, it will be used:\n",
    "+ re for string splitting\n",
    "+ nltk (Natural Language Toolkit) for text processing\n",
    "+ pandas for data processing\n",
    "+ sklearn for data processing\n",
    "+ matplotlib for data visualization"
   ]
  },
  {
   "cell_type": "code",
   "execution_count": 75,
   "metadata": {},
   "outputs": [],
   "source": [
    "# regular expression for splitting raw file\n",
    "import re\n",
    "\n",
    "# To create dataframes and store data in a handy format\n",
    "import pandas as pd\n",
    "import numpy as np\n",
    "\n",
    "# Separate the text into sentences\n",
    "import nltk.data\n",
    "\n",
    "# Creation of vectorized \"bag of words\"\n",
    "from sklearn.feature_extraction.text import CountVectorizer\n",
    "\n",
    "# for matrix normalization\n",
    "from sklearn.feature_extraction.text import TfidfTransformer\n",
    "\n",
    "# for textrank algorithm\n",
    "import networkx as nx\n",
    "\n",
    "# matplotlib for visualization\n",
    "import matplotlib.pyplot as plt\n",
    "\n",
    "# ignore warings\n",
    "import warnings\n",
    "warnings.simplefilter(\"ignore\")"
   ]
  },
  {
   "cell_type": "markdown",
   "metadata": {},
   "source": [
    "## Import the file containing the texts"
   ]
  },
  {
   "cell_type": "code",
   "execution_count": 24,
   "metadata": {
    "scrolled": true
   },
   "outputs": [
    {
     "data": {
      "text/html": [
       "<div>\n",
       "<style scoped>\n",
       "    .dataframe tbody tr th:only-of-type {\n",
       "        vertical-align: middle;\n",
       "    }\n",
       "\n",
       "    .dataframe tbody tr th {\n",
       "        vertical-align: top;\n",
       "    }\n",
       "\n",
       "    .dataframe thead th {\n",
       "        text-align: right;\n",
       "    }\n",
       "</style>\n",
       "<table border=\"1\" class=\"dataframe\">\n",
       "  <thead>\n",
       "    <tr style=\"text-align: right;\">\n",
       "      <th></th>\n",
       "      <th>source</th>\n",
       "      <th>summary</th>\n",
       "    </tr>\n",
       "  </thead>\n",
       "  <tbody>\n",
       "    <tr>\n",
       "      <th>0</th>\n",
       "      <td>\"Minghella war der Sohn italienisch-schottisch...</td>\n",
       "      <td>Anthony Minghella, CBE war ein britischer Film...</td>\n",
       "    </tr>\n",
       "    <tr>\n",
       "      <th>1</th>\n",
       "      <td>\"Ende der 1940er Jahre wurde eine erste Auteur...</td>\n",
       "      <td>Die Auteur-Theorie ist eine Filmtheorie und di...</td>\n",
       "    </tr>\n",
       "    <tr>\n",
       "      <th>2</th>\n",
       "      <td>\"Al Pacino, geboren in Manhattan, ist der Sohn...</td>\n",
       "      <td>Alfredo James \"\"Al\"\" Pacino ist ein US-amerika...</td>\n",
       "    </tr>\n",
       "    <tr>\n",
       "      <th>3</th>\n",
       "      <td>\"Der Name der Alkalimetalle leitet sich von de...</td>\n",
       "      <td>Als Alkalimetalle werden die chemischen Elemen...</td>\n",
       "    </tr>\n",
       "    <tr>\n",
       "      <th>4</th>\n",
       "      <td>\"Die Arbeit ist bereits seit dem Altertum Gege...</td>\n",
       "      <td>Das deutsche Arbeitsrecht ist ein Rechtsgebiet...</td>\n",
       "    </tr>\n",
       "  </tbody>\n",
       "</table>\n",
       "</div>"
      ],
      "text/plain": [
       "                                              source  \\\n",
       "0  \"Minghella war der Sohn italienisch-schottisch...   \n",
       "1  \"Ende der 1940er Jahre wurde eine erste Auteur...   \n",
       "2  \"Al Pacino, geboren in Manhattan, ist der Sohn...   \n",
       "3  \"Der Name der Alkalimetalle leitet sich von de...   \n",
       "4  \"Die Arbeit ist bereits seit dem Altertum Gege...   \n",
       "\n",
       "                                             summary  \n",
       "0  Anthony Minghella, CBE war ein britischer Film...  \n",
       "1  Die Auteur-Theorie ist eine Filmtheorie und di...  \n",
       "2  Alfredo James \"\"Al\"\" Pacino ist ein US-amerika...  \n",
       "3  Als Alkalimetalle werden die chemischen Elemen...  \n",
       "4  Das deutsche Arbeitsrecht ist ein Rechtsgebiet...  "
      ]
     },
     "execution_count": 24,
     "metadata": {},
     "output_type": "execute_result"
    }
   ],
   "source": [
    "def import_text(filename):\n",
    "    \n",
    "    # Import the data using as separator (regex) a double quote (which is not preceeded by a double quote) followed by a \n",
    "    # comma and a double quote (which is not proceeded by a double quote)\n",
    "    df = pd.read_csv(filename,sep=\"(?<!\\\")\\\"\\,\\\"(?!\\\")\",engine='python')\n",
    "    # Correct the names of the columns\n",
    "    df.columns = df.columns.str.replace('\"','')\n",
    "    \n",
    "    return df\n",
    "\n",
    "df =import_text(\"Summarization_train.csv\")\n",
    "df.head()"
   ]
  },
  {
   "cell_type": "markdown",
   "metadata": {},
   "source": [
    "## String Preprocessing\n",
    "\n",
    "Before starting with the algorithm, it is necessary to remove some special characters as needed. In this case, remove the double quotes that appear twice (\"\") along the text, leaving only one double quote. \n",
    "\n",
    "Ex: \"\"Al Pacino\"\" ----> \"Al Pacino\"\n",
    "\n",
    "After create a dataframe from the training data wit the source and the provided summary.\n",
    "\n",
    "There is no preprocessing of breakline (\"\\n\"), since they are not present in the dataset.\n",
    "\n",
    "Test reveals that it has problems when it finds U.S. so remove the inner dots when finding this string, then it becomes \"US\""
   ]
  },
  {
   "cell_type": "code",
   "execution_count": 25,
   "metadata": {},
   "outputs": [
    {
     "data": {
      "text/html": [
       "<div>\n",
       "<style scoped>\n",
       "    .dataframe tbody tr th:only-of-type {\n",
       "        vertical-align: middle;\n",
       "    }\n",
       "\n",
       "    .dataframe tbody tr th {\n",
       "        vertical-align: top;\n",
       "    }\n",
       "\n",
       "    .dataframe thead th {\n",
       "        text-align: right;\n",
       "    }\n",
       "</style>\n",
       "<table border=\"1\" class=\"dataframe\">\n",
       "  <thead>\n",
       "    <tr style=\"text-align: right;\">\n",
       "      <th></th>\n",
       "      <th>source</th>\n",
       "      <th>summary</th>\n",
       "    </tr>\n",
       "  </thead>\n",
       "  <tbody>\n",
       "    <tr>\n",
       "      <th>0</th>\n",
       "      <td>Minghella war der Sohn italienisch-schottische...</td>\n",
       "      <td>Anthony Minghella, CBE war ein britischer Film...</td>\n",
       "    </tr>\n",
       "    <tr>\n",
       "      <th>1</th>\n",
       "      <td>Ende der 1940er Jahre wurde eine erste Auteur-...</td>\n",
       "      <td>Die Auteur-Theorie ist eine Filmtheorie und di...</td>\n",
       "    </tr>\n",
       "    <tr>\n",
       "      <th>2</th>\n",
       "      <td>Al Pacino, geboren in Manhattan, ist der Sohn ...</td>\n",
       "      <td>Alfredo James \"Al\" Pacino ist ein US-amerikani...</td>\n",
       "    </tr>\n",
       "    <tr>\n",
       "      <th>3</th>\n",
       "      <td>Der Name der Alkalimetalle leitet sich von dem...</td>\n",
       "      <td>Als Alkalimetalle werden die chemischen Elemen...</td>\n",
       "    </tr>\n",
       "    <tr>\n",
       "      <th>4</th>\n",
       "      <td>Die Arbeit ist bereits seit dem Altertum Gegen...</td>\n",
       "      <td>Das deutsche Arbeitsrecht ist ein Rechtsgebiet...</td>\n",
       "    </tr>\n",
       "  </tbody>\n",
       "</table>\n",
       "</div>"
      ],
      "text/plain": [
       "                                              source  \\\n",
       "0  Minghella war der Sohn italienisch-schottische...   \n",
       "1  Ende der 1940er Jahre wurde eine erste Auteur-...   \n",
       "2  Al Pacino, geboren in Manhattan, ist der Sohn ...   \n",
       "3  Der Name der Alkalimetalle leitet sich von dem...   \n",
       "4  Die Arbeit ist bereits seit dem Altertum Gegen...   \n",
       "\n",
       "                                             summary  \n",
       "0  Anthony Minghella, CBE war ein britischer Film...  \n",
       "1  Die Auteur-Theorie ist eine Filmtheorie und di...  \n",
       "2  Alfredo James \"Al\" Pacino ist ein US-amerikani...  \n",
       "3  Als Alkalimetalle werden die chemischen Elemen...  \n",
       "4  Das deutsche Arbeitsrecht ist ein Rechtsgebiet...  "
      ]
     },
     "execution_count": 25,
     "metadata": {},
     "output_type": "execute_result"
    }
   ],
   "source": [
    "def preprocess_text(df):\n",
    "    for column in df.columns:\n",
    "        # replace whenever there are twice double quotes by just one double quote (\"\"Al Pacino\"\" --> \"Al Pacino\") \n",
    "        df[column] = df[column].str.replace(\"(\\\")(?!\\\")\",'')\n",
    "        # replace the expression U.S. by US to avoid wrong sentence splitting\n",
    "        df[column] = df[column].str.replace('(U.S.)','US')\n",
    "    \n",
    "    return df\n",
    "\n",
    "df = preprocess_text(df)\n",
    "df.head()"
   ]
  },
  {
   "cell_type": "markdown",
   "metadata": {},
   "source": [
    "Implement a function to split the text into sentences using nltk pre-trained german tokenizer. "
   ]
  },
  {
   "cell_type": "code",
   "execution_count": 26,
   "metadata": {},
   "outputs": [],
   "source": [
    "def split_sentences(text):\n",
    "    sent_detector = nltk.data.load('tokenizers/punkt/german.pickle')\n",
    "    sentences = sent_detector.tokenize(text.strip())\n",
    "    return sentences"
   ]
  },
  {
   "cell_type": "code",
   "execution_count": 27,
   "metadata": {},
   "outputs": [
    {
     "data": {
      "text/plain": [
       "['Roddenberry wurde 1921 in El Paso in Texas geboren.',\n",
       " 'Er besuchte kurzzeitig das Los Angeles City College.',\n",
       " 'Im Zweiten Weltkrieg war er B-17-Bomberpilot bei den amerikanischen Army Air Forces.',\n",
       " 'Er flog insgesamt 89 Einsätze während des Pazifikkrieges und erhielt für seine Leistungen das Distinguished Flying Cross.',\n",
       " 'Nachdem er im Juli 1945 ehrenhaft im Range eines Captains aus der USAAF entlassen wurde, arbeitete er bis 1949 als Pilot bei der PanAm.',\n",
       " 'Im Juni 1947 erhielt er eine Belobigung der damaligen Civil Aeronautics Authority der Vereinigten Staaten für seine Leistungen während einer Rettungsmission nach dem Absturz des PanAm-Flugs 121 über der syrischen Wüste.',\n",
       " 'Von 1949 bis 1956 war er Sergeant bei der Polizei von Los Angeles.',\n",
       " 'Dort war er Untersuchungsleiter des \"Office of Chief of Police\" und bereitete Reden für seinen Vorgesetzten Chief William H. Parker vor.',\n",
       " 'Seit Anfang der 1950er betätigte er sich auch als freier Drehbuchautor und schrieb Drehbücher für zahlreiche US-Fernsehserien, unter anderem \"Polizeibericht\", \"Streifenwagen 2150\", \"Dr. Kildare\", \"Gnadenlose Stadt\", \"The US Steel Hour\" und \"Have Gun, Will Travel\" .',\n",
       " '1959 versuchte er, die erste selbst konzipierte Serie \"333 Montgomery Street\" unterzubringen, und produzierte dafür einen Pilotfilm, der jedoch abgelehnt wurde.',\n",
       " 'In diesem Film spielte DeForest Kelley die Hauptrolle, der später als Dr. \"Pille\" McCoy in \"Raumschiff Enterprise\" berühmt wurde.',\n",
       " '1963 hatte Roddenberry mit \"The Lieutenant\" Glück.',\n",
       " 'MGM kaufte die Serie, die sich mit dem Marine-Corps in Friedenszeiten beschäftigte.',\n",
       " 'Die Hauptrollen waren mit Robert Vaughn und Gary Lockwood besetzt.',\n",
       " '1964 regte sich Interesse an \"Raumschiff Enterprise\" beim damals unabhängigen Studio Desilu Productions, das NBC dazu bewegen konnte, Roddenberry 20.000 US-Dollar zur Verfügung zu stellen, um aus drei Episodenvorlagen, die auf Grundlage des Serienkonzeptes entstanden, eine zu verfilmen.',\n",
       " 'NBC entschied sich für \"The Cage\" .',\n",
       " 'Die Produktion des Pilotfilms dauerte von Oktober 1964 bis Februar 1965.',\n",
       " 'Die Präsentation bei NBC war ein Desaster: Der Film war zu teuer , zu lang und der angedeutete Internationalismus schien nicht zeitgemäss.',\n",
       " 'Dennoch entschied man sich – gegen jede Erwartung – dafür, einen zweiten Pilotfilm in Auftrag zu geben.',\n",
       " 'Am 8. September 1966 wurde die erste Episode \"The Man Trap\" bei NBC ausgestrahlt.',\n",
       " '\"Raumschiff Enterprise\" erreichte in der Erstausstrahlung keine besonders hohen Einschaltquoten.',\n",
       " 'Die Fans der Serie, die sich selbst \"Trekkies\" nennen, sorgten jedoch durch organisierte Briefaktionen dafür, dass bis September 1969 insgesamt 3 Staffeln mit 79 Folgen gedreht wurden.',\n",
       " 'Letztendlich stellte sich aber kein kommerzieller Erfolg ein, und die Serie wurde eingestellt.',\n",
       " '1969 heirateten Roddenberry und Majel Barrett.',\n",
       " 'Die beiden haben einen Sohn, den 1974 geborenen Fernsehproduzenten Eugene Wesley \"Rod\" Roddenberry Jr.',\n",
       " 'Paramount Television versuchte seine Verluste zu kompensieren, indem sie die Serie günstig an möglichst viele kleine Fernsehsender verkaufte.',\n",
       " 'In dieser Zeit gewann \"Star Trek\" einen enormen Popularitätsschub, wurde weltweit ausgestrahlt und erreichte Kultstatus.',\n",
       " 'Dies veranlasste Paramount dazu, 1973 eine Zeichentrickserie zu produzieren, und 1975 die Planung einer Neuauflage der Serie unter dem Arbeitstitel \"\"\".',\n",
       " 'Als dieses Projekt scheiterte, nahm man einen Kinofilm in Angriff.',\n",
       " 'Der Kinofilm \"\"\" von 1979 war erfolgreich genug, dass weitere Kinofilme folgten und schliesslich im Jahr 1987 eine neue Serie \"\"\", der nach dem Tod Roddenberrys weitere Ableger-Serien folgten.',\n",
       " 'Roddenberry war ein Anhänger des Humanismus.',\n",
       " 'Er starb am 24. Oktober 1991 an Herzversagen.',\n",
       " 'Am 21. April 1997 beförderte eine Pegasus-XL-Rakete einen Teil seiner Asche und der von 20 anderen Personen, unter anderem Timothy Leary, in eine Erdumlaufbahn.',\n",
       " 'Damit war Roddenberry einer der ersten, die sich im Weltraum bestatten liessen.',\n",
       " 'Die Kapsel mit der Asche verglühte im Jahr 2004 in der Atmosphäre.',\n",
       " 'Die Serien \"Andromeda\" und \"Mission Erde – Sie sind unter uns\" wurden von seiner Witwe Majel Barrett aus seinem Nachlass erschaffen.',\n",
       " 'Roddenberry war 1985 der erste Fernseh-Autor und Produzent, der einen Stern auf dem Hollywood Walk of Fame erhielt.',\n",
       " 'Eines der Produktions- und Verwaltungsgebäude der Paramount-Studios auf dem Melrose Boulevard ist das Gene-Roddenberry-Building.',\n",
       " 'In Anerkennung des Lebenswerkes von Gene Roddenberry beschloss die Internationale Astronomische Union 1994, einen Krater auf dem Mars nach ihm zu benennen.',\n",
       " 'Er liegt auf −49,9° Breite und 4,5° Länge areographischer Koordinaten und hat einen Durchmesser von 140 km.',\n",
       " 'Auch der Asteroid Roddenberry trägt seinen Namen.',\n",
       " 'Am 4. Oktober 2002 wurde in Anwesenheit seines Sohnes Eugene W. Roddenberry das El Paso Independent School District Planetarium in \"Roddenberry Planetarium\" umbenannt.',\n",
       " 'Im selben Jahr wurde ihm postum – sowie seiner inzwischen ebenfalls verstorbenen Ehefrau Majel Barrett Roddenberry – von der Space Foundation der Douglas S. Morrow Outreach Award für Verdienste um die öffentliche Wahrnehmung von Weltraumprogrammen verliehen.',\n",
       " 'Das Science-Fiction-Museum in Seattle nahm Gene Roddenberry zusammen mit Regisseur Ridley Scott, Künstler Ed Emshwiller und Autor Gene Wolfe am 16. Juni 2007 in die Science Fiction Hall of Fame auf.',\n",
       " 'Die Verleihung wurde von dem Schauspieler und Schriftsteller Wil Wheaton moderiert.']"
      ]
     },
     "execution_count": 27,
     "metadata": {},
     "output_type": "execute_result"
    }
   ],
   "source": [
    "# Test case\n",
    "source = df['source'][34]\n",
    "sentences = split_sentences(source)\n",
    "#[re.match('(U.S)',sentence) for sentence in sentences]\n",
    "sentences"
   ]
  },
  {
   "cell_type": "markdown",
   "metadata": {},
   "source": [
    "## Create the Bag of Words\n",
    "\n",
    "The Bag of words for each sentence consists in a vector, where each column corresponds to a word. In the text, it consists in a matrix, where each row is a sentence and each column is a word count."
   ]
  },
  {
   "cell_type": "code",
   "execution_count": 28,
   "metadata": {},
   "outputs": [],
   "source": [
    "def bag_of_words(sentences):\n",
    "    '''\n",
    "        bag_of_words(sentences)\n",
    "    Inputs:\n",
    "        sentences (list) - list of strings\n",
    "    Returns:\n",
    "        bag_words (np.array()) - sparse matrix of Bag of Words\n",
    "    '''\n",
    "    c = CountVectorizer()\n",
    "    bag_words = c.fit_transform(sentences)\n",
    "    \n",
    "    return bag_words"
   ]
  },
  {
   "cell_type": "code",
   "execution_count": 29,
   "metadata": {},
   "outputs": [
    {
     "name": "stdout",
     "output_type": "stream",
     "text": [
      "Roddenberry wurde 1921 in El Paso in Texas geboren.\n"
     ]
    },
    {
     "data": {
      "text/plain": [
       "array([[1, 1, 1, 2, 1, 1, 1, 1]], dtype=int64)"
      ]
     },
     "execution_count": 29,
     "metadata": {},
     "output_type": "execute_result"
    }
   ],
   "source": [
    "# Test Case\n",
    "source = df['source'][34]\n",
    "sentences = split_sentences(source)\n",
    "\n",
    "# Test bag of words for sentence: 'Roddenberry wurde 1921 in El Paso in Texas geboren.'\n",
    "print(sentences[0])\n",
    "bag_of_words([sentences[0]]).toarray()"
   ]
  },
  {
   "cell_type": "markdown",
   "metadata": {},
   "source": [
    "## Structure the edge weights matrix to create the sentence network\n",
    "\n",
    "To define the weights of network, use sklearn function TfidfTransformer the words counts, generating a term-frequency matrix."
   ]
  },
  {
   "cell_type": "code",
   "execution_count": 30,
   "metadata": {},
   "outputs": [],
   "source": [
    "# Test case\n",
    "matrix = bag_of_words(sentences)\n",
    "normalized_matrix = TfidfTransformer().fit_transform(matrix)"
   ]
  },
  {
   "cell_type": "markdown",
   "metadata": {},
   "source": [
    "Build the similarity graph by re-weighting each word."
   ]
  },
  {
   "cell_type": "code",
   "execution_count": 31,
   "metadata": {},
   "outputs": [
    {
     "data": {
      "text/plain": [
       "<45x45 sparse matrix of type '<class 'numpy.float64'>'\n",
       "\twith 1435 stored elements in Compressed Sparse Row format>"
      ]
     },
     "execution_count": 31,
     "metadata": {},
     "output_type": "execute_result"
    }
   ],
   "source": [
    "similarity_graph = np.dot(normalized_matrix,normalized_matrix.T)\n",
    "similarity_graph"
   ]
  },
  {
   "cell_type": "markdown",
   "metadata": {},
   "source": [
    "### Use PageRank algorithm from networkx to score each sentence"
   ]
  },
  {
   "cell_type": "code",
   "execution_count": 32,
   "metadata": {},
   "outputs": [
    {
     "name": "stderr",
     "output_type": "stream",
     "text": [
      "/Users/Nicole/anaconda3/lib/python3.7/site-packages/networkx/drawing/nx_pylab.py:611: MatplotlibDeprecationWarning: isinstance(..., numbers.Number)\n",
      "  if cb.is_numlike(alpha):\n"
     ]
    },
    {
     "data": {
      "image/png": "[encoded data removed]",
      "text/plain": [
       "<Figure size 720x720 with 1 Axes>"
      ]
     },
     "metadata": {
      "needs_background": "light"
     },
     "output_type": "display_data"
    }
   ],
   "source": [
    "G = nx.from_scipy_sparse_matrix(similarity_graph)\n",
    "\n",
    "plt.figure(figsize = (10,10))\n",
    "\n",
    "elarge = [(u, v) for (u, v, d) in G.edges(data=True) if d['weight'] > 0.1]\n",
    "#esmall = [(u, v) for (u, v, d) in G.edges(data=True) if d['weight'] <= 0.1]\n",
    "enull = [(u, v) for (u, v, d) in G.edges(data=True) if d['weight'] < 0.1]\n",
    "    \n",
    "pos = nx.circular_layout(G)  # positions for all nodes\n",
    "\n",
    "# nodes\n",
    "nx.draw_networkx_nodes(G, pos, node_size=700)\n",
    "\n",
    "# edges\n",
    "nx.draw_networkx_edges(G, pos, edgelist=elarge,\n",
    "                       width=6)\n",
    "#nx.draw_networkx_edges(G, pos, edgelist=esmall,\n",
    "#                       width=6, alpha=0.5, edge_color='b', style='dashed')\n",
    "\n",
    "# labels\n",
    "nx.draw_networkx_labels(G, pos, font_size=20, font_family='sans-serif')\n",
    "\n",
    "\n",
    "plt.axis('off')\n",
    "plt.show()"
   ]
  },
  {
   "cell_type": "markdown",
   "metadata": {},
   "source": [
    "## Apply pagerank (i.e textrank) algorithm\n",
    "\n",
    "Textrank is obtained through application of the network method ```pagerank()```. According its documentation:\n",
    "\n",
    "\"The eigenvector calculation is done by the power iteration method and has no guarantee of convergence. The iteration will stop after max_iter iterations or an error tolerance of number_of_nodes(G)*tol has been reached.\n",
    "\n",
    "The PageRank algorithm was designed for directed graphs but this algorithm does not check if the input graph is directed and will execute on undirected graphs by converting each edge in the directed graph to two edges.\""
   ]
  },
  {
   "cell_type": "code",
   "execution_count": 33,
   "metadata": {},
   "outputs": [
    {
     "data": {
      "text/plain": [
       "array([36,  6, 17, 38, 33,  9, 42, 34,  4, 37,  5, 12, 27, 29, 41, 19, 43,\n",
       "       21, 14,  0, 10, 32, 44, 22, 18,  8, 23, 39, 35,  3, 30, 16, 26, 15,\n",
       "        7, 20,  2, 28, 40, 24, 13, 25, 11, 31,  1])"
      ]
     },
     "execution_count": 33,
     "metadata": {},
     "output_type": "execute_result"
    }
   ],
   "source": [
    "sorted_sentences = np.argsort(list(nx.pagerank(G,weight='weight').values()))[::-1]\n",
    "sorted_sentences"
   ]
  },
  {
   "cell_type": "code",
   "execution_count": 51,
   "metadata": {},
   "outputs": [],
   "source": [
    "def get_summary_sentences(matrix,sorted_sentences):\n",
    "    # sum the rows of the matrix Bag of words, flatten it and reshape, extracting the sublist to have the count of words\n",
    "    count_words = np.array(np.sum(matrix,axis=1).flatten().reshape(-1,))[0]\n",
    "    cumcount_words = np.cumsum(count_words) # cumulative sum to count the words along the summary to be written\n",
    "    \n",
    "    # find the num of sentences to keep in the summary (shourld be between 85 and 115 words (100+-15%))\n",
    "    # count the number of words until the one before it reaches 100 words or the first one to supass 100\n",
    "    # lower boundary (before 100)\n",
    "    if len(cumcount_words[cumcount_words<=100])>1:\n",
    "        lb = cumcount_words[cumcount_words<=100][-1]\n",
    "    else:\n",
    "        lb = cumcount_words[cumcount_words<=100]\n",
    "    # upper boundary (after 100)\n",
    "    if len(cumcount_words[cumcount_words>100])>1:\n",
    "        ub = cumcount_words[cumcount_words>100][0]\n",
    "    else:\n",
    "        ub = cumcount_words[cumcount_words>100]\n",
    "    \n",
    "    # use flags to know if the summary is smaller than 85 words (smaller_sumamry) or greater than 115 (bigger_summary)\n",
    "    bigger_summary = False\n",
    "    smaller_summary = False\n",
    "    \n",
    "    if (ub-100)< (100-lb): # the upper boundary is nearer to 100\n",
    "        numsent2keep = len(cumcount_words[cumcount_words>100])\n",
    "        numwords_summary = ub # number of words in summary\n",
    "        if ub > 115: # check if it surpasses 115 and raise the flag\n",
    "            bigger_summary = True\n",
    "\n",
    "    else: # the lower boundary is nearer to 100\n",
    "        numsent2keep = len(cumcount_words[cumcount_words<=100])\n",
    "        numwords_summary = lb # number of words in summary\n",
    "        if lb < 85: # check if it is smaller than 85 and raise the flag\n",
    "            smaller_summary = True\n",
    "\n",
    "    # stroe the flags and the word count in a dictionary for reference\n",
    "    out_of_range_dict = {'numwords_summary':numwords_summary,'bigger_summary':bigger_summary,'smaller_summary':smaller_summary}\n",
    "        \n",
    "\n",
    "    # extract only the sentences to write the summary\n",
    "    summary_sentences = sorted_sentences[:numsent2keep]\n",
    "    summary_sentences\n",
    "    # print(f'Sentences indices that will be in the summary = {summary_sentences}')\n",
    "    return summary_sentences, out_of_range_dict\n",
    "\n",
    "summary_sentences,out_of_range_dict = get_summary_sentences(matrix,sorted_sentences)"
   ]
  },
  {
   "cell_type": "code",
   "execution_count": 66,
   "metadata": {},
   "outputs": [],
   "source": [
    "def create_summary(summary_sentences,sentences):\n",
    "    summary = ''\n",
    "    for index_ in summary_sentences:\n",
    "        summary += sentences[index_]\n",
    "        \n",
    "    return summary\n",
    "\n",
    "summary = create_summary(summary_sentences,sentences)"
   ]
  },
  {
   "cell_type": "markdown",
   "metadata": {},
   "source": [
    "## Compilation of all the procedure above in one function\n",
    "\n",
    "Implement a function summarize() which will get a raw text and create the summary."
   ]
  },
  {
   "cell_type": "code",
   "execution_count": 53,
   "metadata": {},
   "outputs": [],
   "source": [
    "out_of_range_all = {'numwords_summary':[],'bigger_summary':[],'smaller_summary':[]}\n",
    "def summarize(text):\n",
    "    sentences = split_sentences(text)\n",
    "    matrix = bag_of_words(sentences)\n",
    "    normalized_matrix = TfidfTransformer().fit_transform(matrix)\n",
    "    similarity_graph = np.dot(normalized_matrix,normalized_matrix.T)\n",
    "    G = nx.from_scipy_sparse_matrix(similarity_graph)\n",
    "    sorted_sentences = np.argsort(list(nx.pagerank(G,weight='weight').values()))[::-1]\n",
    "    summary_sentences,out_of_range_dict = get_summary_sentences(matrix,sorted_sentences)\n",
    "    out_of_range_all['numwords_summary'].append(out_of_range_dict['numwords_summary'])\n",
    "    out_of_range_all['bigger_summary'].append(out_of_range_dict['bigger_summary'])\n",
    "    out_of_range_all['smaller_summary'].append(out_of_range_dict['smaller_summary'])\n",
    "    summary = create_summary(summary_sentences,sentences)\n",
    "    \n",
    "    return summary"
   ]
  },
  {
   "cell_type": "markdown",
   "metadata": {},
   "source": [
    "### Apply the summarization to all training dataset"
   ]
  },
  {
   "cell_type": "code",
   "execution_count": 76,
   "metadata": {},
   "outputs": [
    {
     "data": {
      "text/html": [
       "<div>\n",
       "<style scoped>\n",
       "    .dataframe tbody tr th:only-of-type {\n",
       "        vertical-align: middle;\n",
       "    }\n",
       "\n",
       "    .dataframe tbody tr th {\n",
       "        vertical-align: top;\n",
       "    }\n",
       "\n",
       "    .dataframe thead th {\n",
       "        text-align: right;\n",
       "    }\n",
       "</style>\n",
       "<table border=\"1\" class=\"dataframe\">\n",
       "  <thead>\n",
       "    <tr style=\"text-align: right;\">\n",
       "      <th></th>\n",
       "      <th>source</th>\n",
       "      <th>summary</th>\n",
       "      <th>my_summary</th>\n",
       "    </tr>\n",
       "  </thead>\n",
       "  <tbody>\n",
       "    <tr>\n",
       "      <th>0</th>\n",
       "      <td>Minghella war der Sohn italienisch-schottische...</td>\n",
       "      <td>Anthony Minghella, CBE war ein britischer Film...</td>\n",
       "      <td>Auch als Produzent war er erfolgreich, darunte...</td>\n",
       "    </tr>\n",
       "    <tr>\n",
       "      <th>1</th>\n",
       "      <td>Ende der 1940er Jahre wurde eine erste Auteur-...</td>\n",
       "      <td>Die Auteur-Theorie ist eine Filmtheorie und di...</td>\n",
       "      <td>Das Konzept des Regisseurs als \"auteur\" seiner...</td>\n",
       "    </tr>\n",
       "    <tr>\n",
       "      <th>2</th>\n",
       "      <td>Al Pacino, geboren in Manhattan, ist der Sohn ...</td>\n",
       "      <td>Alfredo James \"Al\" Pacino ist ein US-amerikani...</td>\n",
       "      <td>Al Pacino, geboren in Manhattan, ist der Sohn ...</td>\n",
       "    </tr>\n",
       "    <tr>\n",
       "      <th>3</th>\n",
       "      <td>Der Name der Alkalimetalle leitet sich von dem...</td>\n",
       "      <td>Als Alkalimetalle werden die chemischen Elemen...</td>\n",
       "      <td>Mit Sauerstoff reagieren die Metalle unter Bil...</td>\n",
       "    </tr>\n",
       "    <tr>\n",
       "      <th>4</th>\n",
       "      <td>Die Arbeit ist bereits seit dem Altertum Gegen...</td>\n",
       "      <td>Das deutsche Arbeitsrecht ist ein Rechtsgebiet...</td>\n",
       "      <td>Zu unterscheiden ist die Mitbestimmung der Arb...</td>\n",
       "    </tr>\n",
       "  </tbody>\n",
       "</table>\n",
       "</div>"
      ],
      "text/plain": [
       "                                              source  \\\n",
       "0  Minghella war der Sohn italienisch-schottische...   \n",
       "1  Ende der 1940er Jahre wurde eine erste Auteur-...   \n",
       "2  Al Pacino, geboren in Manhattan, ist der Sohn ...   \n",
       "3  Der Name der Alkalimetalle leitet sich von dem...   \n",
       "4  Die Arbeit ist bereits seit dem Altertum Gegen...   \n",
       "\n",
       "                                             summary  \\\n",
       "0  Anthony Minghella, CBE war ein britischer Film...   \n",
       "1  Die Auteur-Theorie ist eine Filmtheorie und di...   \n",
       "2  Alfredo James \"Al\" Pacino ist ein US-amerikani...   \n",
       "3  Als Alkalimetalle werden die chemischen Elemen...   \n",
       "4  Das deutsche Arbeitsrecht ist ein Rechtsgebiet...   \n",
       "\n",
       "                                          my_summary  \n",
       "0  Auch als Produzent war er erfolgreich, darunte...  \n",
       "1  Das Konzept des Regisseurs als \"auteur\" seiner...  \n",
       "2  Al Pacino, geboren in Manhattan, ist der Sohn ...  \n",
       "3  Mit Sauerstoff reagieren die Metalle unter Bil...  \n",
       "4  Zu unterscheiden ist die Mitbestimmung der Arb...  "
      ]
     },
     "execution_count": 76,
     "metadata": {},
     "output_type": "execute_result"
    }
   ],
   "source": [
    "df['my_summary'] = df['source'].apply(summarize)\n",
    "df['my_summary'].replace('', np.nan, inplace=True)\n",
    "df.dropna(inplace=True)\n",
    "#df.mask(df.eq('None')).dropna()\n",
    "df.head()"
   ]
  },
  {
   "cell_type": "code",
   "execution_count": 77,
   "metadata": {},
   "outputs": [
    {
     "name": "stdout",
     "output_type": "stream",
     "text": [
      "Out of Range Summaries\n",
      "Number of bigger summaries = 3948\n",
      "Number of bigger summaries = 4456\n"
     ]
    },
    {
     "data": {
      "text/plain": [
       "\"\\nprint(f'Average number of words of bigger summaries = {avgwords_bigger}')\\nprint(f'Average number of words of smaller summaries = {avgwords_smaller}')\\n\""
      ]
     },
     "execution_count": 77,
     "metadata": {},
     "output_type": "execute_result"
    }
   ],
   "source": [
    "# Description of out of range summaries\n",
    "numtotal_summaries = len(df)\n",
    "# Number of Bigger summaries\n",
    "numbigger_summaries = sum(out_of_range_all['bigger_summary'])\n",
    "# Number of Smaller summaries\n",
    "numsmaller_summaries = sum(out_of_range_all['smaller_summary'])\n",
    "'''\n",
    "# number of words only from bigger summaries\n",
    "numwords_bigger = out_of_range_all['numwords_summary'][out_of_range_all['bigger_summary']]\n",
    "# number of words only from smaller summaries\n",
    "numwords_smaller = out_of_range_all['numwords_summary'][out_of_range_all['smaller_summary']]\n",
    "\n",
    "# Average size of bigger summary\n",
    "avgwords_bigger = sum(numwords_bigger)/len(numwords_bigger)\n",
    "avgwords_smaller = sum(numwords_smaller)/len(numwords_smaller)\n",
    "'''\n",
    "\n",
    "print('Out of Range Summaries')\n",
    "print(f'Number of bigger summaries = {numbigger_summaries}')\n",
    "print(f'Number of bigger summaries = {numsmaller_summaries}')\n",
    "\n",
    "\n",
    "'''\n",
    "print(f'Average number of words of bigger summaries = {avgwords_bigger}')\n",
    "print(f'Average number of words of smaller summaries = {avgwords_smaller}')\n",
    "'''"
   ]
  },
  {
   "cell_type": "markdown",
   "metadata": {},
   "source": [
    "## Evaluate goodness of the summarization process through Rouge-1 and Rouge-2\n",
    "\n",
    "Evaluate the quality of the machine-generated summary using Rouge-1 and Rouge-2. In this regards, three metrics can be used, F, P and R, as mentioned by Lin (--). The following equations defines such metrics.\n",
    "\n",
    "$$R=\\frac{\\sum_{i=1}^u LCS(r_i,C)}{m}$$\n",
    "\n",
    "$$P=\\frac{\\sum_{i=1}^u LCS(r_i,C)}{n}$$\n",
    "\n",
    "$$F=\\frac{(1+\\beta^2)RP}{R+\\beta^2 P}$$\n",
    "\n",
    "Where LCS refers to the longest common subsequence in both summaries, i.e  a  common  subsequence  with  maximum  length. $\\beta$ is as the ratio between $P$ and $R$.\n",
    "\n",
    "In this notebook, the application of rouge is done using the module rouge. Documentation is available in the following link:\n",
    "\n",
    "https://github.com/pltrdy/rouge\n",
    "\n",
    "As mentioned by Lin (--), the F metrics is the most robust one betwenn the three available (F, P and R). Therefore, this one was used to investigate the quality of the summaries obtained."
   ]
  },
  {
   "cell_type": "code",
   "execution_count": 78,
   "metadata": {},
   "outputs": [],
   "source": [
    "from rouge import Rouge \n",
    "\n",
    "rouge = Rouge()\n",
    "scores = rouge.get_scores(df['summary'],df['my_summary'])"
   ]
  },
  {
   "cell_type": "code",
   "execution_count": 79,
   "metadata": {},
   "outputs": [
    {
     "name": "stdout",
     "output_type": "stream",
     "text": [
      "Average Rouge-1 (F-metrics) = 0.15974092102209886\n",
      "Average Rouge-2 (F-metrics) = 0.03874410274506783\n"
     ]
    }
   ],
   "source": [
    "rouge1 = [scores[n]['rouge-1']['f'] for n in range(len(scores))]\n",
    "rouge2 = [scores[n]['rouge-2']['f'] for n in range(len(scores))]\n",
    "\n",
    "print(f'Average Rouge-1 (F-metrics) = {sum(rouge1)/len(rouge1)}')\n",
    "print(f'Average Rouge-2 (F-metrics) = {sum(rouge2)/len(rouge2)}')"
   ]
  },
  {
   "cell_type": "markdown",
   "metadata": {},
   "source": [
    "The average value of Rouge-1 and Rouge-2 for the machine-generated summaries are relatively low. This may be expected, since the algorithm of TextRank works basically by rearranging the sentences in a order according similarity, without any rewriting or rearrangement of the words.\n",
    "\n",
    "Additionaly, only the average does not provide a realistic insight over the distribution of rouge-1 values for the entire dataset. With such purpose, the histograms below illustrates the distribution of the two metrics for the entire set. "
   ]
  },
  {
   "cell_type": "code",
   "execution_count": 81,
   "metadata": {},
   "outputs": [
    {
     "data": {
      "image/png": "[encoded data removed]",
      "text/plain": [
       "<Figure size 432x288 with 1 Axes>"
      ]
     },
     "metadata": {
      "needs_background": "light"
     },
     "output_type": "display_data"
    }
   ],
   "source": [
    "\n",
    "plt.hist(rouge1,bins=20);\n",
    "plt.title('Rouge-1 Histogram')\n",
    "plt.xlabel('Rouge-1')\n",
    "plt.ylabel('Frequency')\n",
    "plt.grid()\n",
    "\n"
   ]
  },
  {
   "cell_type": "code",
   "execution_count": 82,
   "metadata": {},
   "outputs": [
    {
     "data": {
      "text/plain": [
       "Text(0, 0.5, 'Frequency')"
      ]
     },
     "execution_count": 82,
     "metadata": {},
     "output_type": "execute_result"
    },
    {
     "data": {
      "image/png": "[encoded data removed]",
      "text/plain": [
       "<Figure size 432x288 with 1 Axes>"
      ]
     },
     "metadata": {
      "needs_background": "light"
     },
     "output_type": "display_data"
    }
   ],
   "source": [
    "plt.hist(rouge2,bins=20);\n",
    "plt.title('Rouge-2 Histogram')\n",
    "plt.xlabel('Rouge-2')\n",
    "plt.ylabel('Frequency')"
   ]
  },
  {
   "cell_type": "markdown",
   "metadata": {},
   "source": [
    "### Apply the algorithm to the Test set\n",
    "\n",
    "In the following code, the developed algorithm is applied in the Test set. However, **no metrics** is here investigated since there is no provided summary to serve as a reference in regards the quality of the machine-generated one."
   ]
  },
  {
   "cell_type": "code",
   "execution_count": 83,
   "metadata": {},
   "outputs": [
    {
     "name": "stdout",
     "output_type": "stream",
     "text": [
      "Importing data...\n",
      "Data imported\n",
      "Summarizing...\n"
     ]
    },
    {
     "data": {
      "text/html": [
       "<div>\n",
       "<style scoped>\n",
       "    .dataframe tbody tr th:only-of-type {\n",
       "        vertical-align: middle;\n",
       "    }\n",
       "\n",
       "    .dataframe tbody tr th {\n",
       "        vertical-align: top;\n",
       "    }\n",
       "\n",
       "    .dataframe thead th {\n",
       "        text-align: right;\n",
       "    }\n",
       "</style>\n",
       "<table border=\"1\" class=\"dataframe\">\n",
       "  <thead>\n",
       "    <tr style=\"text-align: right;\">\n",
       "      <th></th>\n",
       "      <th>source</th>\n",
       "      <th>my summary</th>\n",
       "    </tr>\n",
       "  </thead>\n",
       "  <tbody>\n",
       "    <tr>\n",
       "      <th>0</th>\n",
       "      <td>Das Kelvin wurde durch die Generalkonferenz fu...</td>\n",
       "      <td>In der zukünftigen Definition wird das Kelvin...</td>\n",
       "    </tr>\n",
       "    <tr>\n",
       "      <th>1</th>\n",
       "      <td>Campbell wurde als Tochter eines schottischen ...</td>\n",
       "      <td>2011 war sie zum vierten mal in der Rolle der ...</td>\n",
       "    </tr>\n",
       "    <tr>\n",
       "      <th>2</th>\n",
       "      <td>Roland Emmerich wurde in Stuttgart-Obertürkhe...</td>\n",
       "      <td>Im Sommer 2014 drehte Emmerich das Drama \"Ston...</td>\n",
       "    </tr>\n",
       "    <tr>\n",
       "      <th>3</th>\n",
       "      <td>Das Stasi-Unterlagen-Gesetz ist die gesetzlich...</td>\n",
       "      <td>Dieses Gesetz ist die Basis für jegliche Tät...</td>\n",
       "    </tr>\n",
       "    <tr>\n",
       "      <th>4</th>\n",
       "      <td>Der Enzkreis hat Anteil am Nordschwarzwald, Kr...</td>\n",
       "      <td>Der Enzkreis organisiert zusammen mit der Stad...</td>\n",
       "    </tr>\n",
       "  </tbody>\n",
       "</table>\n",
       "</div>"
      ],
      "text/plain": [
       "                                              source  \\\n",
       "0  Das Kelvin wurde durch die Generalkonferenz fu...   \n",
       "1  Campbell wurde als Tochter eines schottischen ...   \n",
       "2  Roland Emmerich wurde in Stuttgart-Obertürkhe...   \n",
       "3  Das Stasi-Unterlagen-Gesetz ist die gesetzlich...   \n",
       "4  Der Enzkreis hat Anteil am Nordschwarzwald, Kr...   \n",
       "\n",
       "                                          my summary  \n",
       "0  In der zukünftigen Definition wird das Kelvin...  \n",
       "1  2011 war sie zum vierten mal in der Rolle der ...  \n",
       "2  Im Sommer 2014 drehte Emmerich das Drama \"Ston...  \n",
       "3  Dieses Gesetz ist die Basis für jegliche Tät...  \n",
       "4  Der Enzkreis organisiert zusammen mit der Stad...  "
      ]
     },
     "execution_count": 83,
     "metadata": {},
     "output_type": "execute_result"
    }
   ],
   "source": [
    "out_of_range_all = {'numwords_summary':[],'bigger_summary':[],'smaller_summary':[]}\n",
    "print('Importing data...')\n",
    "df2 = import_text(\"Summarization_test.csv\")\n",
    "print('Data imported')\n",
    "df2 = preprocess_text(df2)\n",
    "print('Summarizing...')\n",
    "df2['my summary'] = df2['source'].apply(summarize)\n",
    "df2.head()"
   ]
  },
  {
   "cell_type": "code",
   "execution_count": 85,
   "metadata": {},
   "outputs": [
    {
     "name": "stdout",
     "output_type": "stream",
     "text": [
      "Out of Range Summaries\n",
      "Number of bigger summaries = 33\n",
      "Number of bigger summaries = 38\n"
     ]
    },
    {
     "data": {
      "text/plain": [
       "\"\\nprint(f'Average number of words of bigger summaries = {avgwords_bigger}')\\nprint(f'Average number of words of smaller summaries = {avgwords_smaller}')\\n\""
      ]
     },
     "execution_count": 85,
     "metadata": {},
     "output_type": "execute_result"
    }
   ],
   "source": [
    "# Description of out of range summaries\n",
    "numtotal_summaries = len(df)\n",
    "# Number of Bigger summaries\n",
    "numbigger_summaries = sum(out_of_range_all['bigger_summary'])\n",
    "# Number of Smaller summaries\n",
    "numsmaller_summaries = sum(out_of_range_all['smaller_summary'])\n",
    "\n",
    "'''\n",
    "# number of words only from bigger summaries\n",
    "numwords_bigger = out_of_range_all['numwords_summary'][out_of_range_all['bigger_summary']]\n",
    "# number of words only from smaller summaries\n",
    "numwords_smaller = out_of_range_all['numwords_summary'][out_of_range_all['smaller_summary']]\n",
    "\n",
    "# Average size of bigger summary\n",
    "avgwords_bigger = sum(numwords_bigger)/len(numwords_bigger)\n",
    "avgwords_smaller = sum(numwords_smaller)/len(numwords_smaller)\n",
    "'''\n",
    "print('Out of Range Summaries')\n",
    "print(f'Number of bigger summaries = {numbigger_summaries}')\n",
    "print(f'Number of bigger summaries = {numsmaller_summaries}')\n",
    "'''\n",
    "print(f'Average number of words of bigger summaries = {avgwords_bigger}')\n",
    "print(f'Average number of words of smaller summaries = {avgwords_smaller}')\n",
    "'''"
   ]
  },
  {
   "cell_type": "code",
   "execution_count": null,
   "metadata": {},
   "outputs": [],
   "source": []
  }
 ],
 "metadata": {
  "kernelspec": {
   "display_name": "Python 3",
   "language": "python",
   "name": "python3"
  },
  "language_info": {
   "codemirror_mode": {
    "name": "ipython",
    "version": 3
   },
   "file_extension": ".py",
   "mimetype": "text/x-python",
   "name": "python",
   "nbconvert_exporter": "python",
   "pygments_lexer": "ipython3",
   "version": "3.7.3"
  }
 },
 "nbformat": 4,
 "nbformat_minor": 2
}
