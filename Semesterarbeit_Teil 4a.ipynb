{
 "cells": [
  {
   "cell_type": "markdown",
   "metadata": {},
   "source": [
    "## Semesterarbeit Teil 4a - Taylorpolynom\n"
   ]
  },
  {
   "cell_type": "markdown",
   "metadata": {},
   "source": [
    "<div style=\"text-align: right\">*von Nicole Königstein* </div>"
   ]
  },
  {
   "cell_type": "markdown",
   "metadata": {},
   "source": [
    "### Aufgabenstellung: \n",
    "Visualisieren Sie die Approximation einer Funktion durch Taylorpolynome (z.B. von sin(x) oder von ln(x+1). Schreibem Sie eine Python-Funktion, die die Graphen der Ursprungsfunktion sowie der Taylorpolynome bis zu einem bestimmten Grad mit Matplotlib visualisiert."
   ]
  },
  {
   "cell_type": "markdown",
   "metadata": {},
   "source": [
    "<b>Grundsätzliche, mathematische Aussage zu Taylorpolynomen:</b>\n",
    "\n",
    "Ist $y = f(x)$ eine (n+1)-mal stetig differenzierbare Funktion in einem Intervall <b>I</b> und <b>$x_0$ </b>\n",
    "ein innerer Punkt von <b>I</b>, dann gilt für alle <b>$x\\in I$</b>:\n",
    "<br>\n",
    "\n",
    "$\\tilde{y}(x) = f(x_0) + \\dfrac{x-x_0}{1!} \\dfrac{df(x_0)}{dx} + \\dfrac{(x-x_0)^2}{2!} \\dfrac{d^2f(x_0)}{dx^2} + \\dfrac{(x-x_0)^3}{3!} \\dfrac{d^3f(x_0)}{dx^3} + \\dots + \\dfrac{(x-x_0)^n}{n!} \\dfrac{d^nf(x_0)}{dx^n}$\n",
    "\n",
    "<br>\n",
    "Die Voraussetzung der Stetigkeit im Satz von Taylor ist nicht verwunderlich, da jede Potenzreihe in ihrem Konvergenzbereich beliebig oft differenzierbar ist und damit auch alle Ableitungen stetig sind. Soll sich also eine Funktion f in der Umgebung einer Stelle von $x_0$ durch eine Potenzreihe darstellen lassen, so müssen die Funktion f und alle ihre Ableitungen stetig sein.\n",
    "  \n",
    "\n",
    "<br>\n",
    "\n",
    "Um dies zu visualisieren, betrachte ich hier die Kosinusfunktion $y = cos(x)$ und approximiere diese im Punkt x = 0:\n",
    "\n",
    "$\\tilde{y_2} = cos(0) + \\dfrac{d^2}{dx^2}(cos(0)) \\dfrac{x^2}{2} = 1 - \\dfrac{x^2}{2} $\n",
    "$\\tilde{y_3} = cos(0) + \\dfrac{d^2}{dx^2}\\left(cos(x)\\right) \\dfrac{x^2}{2!} + \\dfrac{d^4}{dx^4}(cos(x)) \\dfrac{x^4}{4!} = 1 - \\dfrac{x^2}{2} + \\dfrac{x^4}{24}$"
   ]
  },
  {
   "cell_type": "markdown",
   "metadata": {},
   "source": []
  },
  {
   "cell_type": "code",
   "execution_count": 1,
   "metadata": {},
   "outputs": [
    {
     "data": {
      "image/png": "[encoded data removed]",
      "text/plain": [
       "<matplotlib.figure.Figure at 0x110ee0780>"
      ]
     },
     "metadata": {},
     "output_type": "display_data"
    },
    {
     "data": {
      "text/plain": [
       "[<matplotlib.lines.Line2D at 0x11c460550>]"
      ]
     },
     "execution_count": 1,
     "metadata": {},
     "output_type": "execute_result"
    }
   ],
   "source": [
    "import numpy as np\n",
    "import pylab as pl\n",
    "import matplotlib.pyplot as plt\n",
    "\n",
    "x = np.linspace(-5,5,10000)\n",
    "y = np.cos(x)\n",
    "y1 = 1*np.ones(len(x));\n",
    "y2 = 1*np.ones(len(x)) - (x**2)/2.0\n",
    "y3 = 1*np.ones(len(x)) - (x**2)/2.0 + (x**4)/24.0\n",
    "\n",
    "\n",
    "\n",
    "pl.title('Talor-Serie von $y = cos(x)$ zentriert auf $x = 0$')\n",
    "pl.plot(x, y, color=\"blue\", linewidth=2.5, linestyle=\"-\", label=\"$y = cos(x)$\")\n",
    "pl.plot(x, y1, color=\"yellow\", linewidth=2.5, linestyle=\"-\", label=\"$y = 1$\")\n",
    "pl.plot(x, y2, color=\"red\", linewidth=2.5, linestyle=\"-\", label=\"$y=1-(x^2)/2$\")\n",
    "pl.plot(x, y3, color=\"cyan\", linewidth=2.5, linestyle=\"-\", label=\"$y=1-(x^2)/2 + (x^4)/24 $\")\n",
    "pl.legend(loc='upper center')\n",
    "pl.xlabel('x')\n",
    "pl.ylabel('y')\n",
    "\n",
    "\n",
    "\n",
    "#pl.plot(x, y)\n",
    "#pl.plot(x, y1)\n",
    "#pl.plot(x, y2)\n",
    "#pl.plot(x, y3)\n",
    "pl.show()\n",
    "plt.plot(x,y)\n",
    "#plt.show()"
   ]
  },
  {
   "cell_type": "markdown",
   "metadata": {},
   "source": [
    "### Interpretation des Ergebnisses:\n",
    "<br>\n",
    "Die Approximation der Kosinusfunktion (blau) durch das Taylorpolynom 3.Grades (cyan)\n",
    "ist in der Umgebung von x=0 recht gut, und wird ab 1 bzw. –1 (Bogenmass) schlechter."
   ]
  },
  {
   "cell_type": "markdown",
   "metadata": {},
   "source": [
    "### Wofür werden Taylorpolynome eigentlich genutzt?"
   ]
  },
  {
   "cell_type": "markdown",
   "metadata": {},
   "source": [
    "Das Taylorpolynom ist eine Methode der perturbativen Mathematik und wird benutzt um Funktionen im \n",
    "Konvergenzbereich zu approximieren. Dies ist besonders dann hilfreich, wenn die eigentliche Funktion \n",
    "nicht darstellbar ist oder die Rechnung mit ihr einen zu hohen Aufwand bedeuten würde.\n",
    "\n",
    "<b>Eine gutes Beispiel aus der Physik ist:</b>\n",
    "<br>\n",
    "Um viele Partikel zu simulieren muss man die Wechselwirkung jedes Partikels mit jedem anderen ausrechnen. Nun ist aber z. B. bei der Gravitation die Wirkung weit entfernter Partikel nur relativ gering. Man könnte dort mehrere weit entfernte Partikel zusammenfassen zu einem \"Multipol\" und nur noch die Wirkung des Multipols behandeln. Dazu macht man eine Taylor-Reihenentwicklung an verschiedenen Stellen der Herleitung. Weitere Informationen zur Mulitpolentwicklung: https://de.wikipedia.org/wiki/Multipolentwicklung"
   ]
  },
  {
   "cell_type": "markdown",
   "metadata": {},
   "source": []
  },
  {
   "cell_type": "code",
   "execution_count": null,
   "metadata": {},
   "outputs": [],
   "source": []
  }
 ],
 "metadata": {
  "kernelspec": {
   "display_name": "Python 3",
   "language": "python",
   "name": "python3"
  },
  "language_info": {
   "codemirror_mode": {
    "name": "ipython",
    "version": 3
   },
   "file_extension": ".py",
   "mimetype": "text/x-python",
   "name": "python",
   "nbconvert_exporter": "python",
   "pygments_lexer": "ipython3",
   "version": "3.6.3"
  }
 },
 "nbformat": 4,
 "nbformat_minor": 2
}
