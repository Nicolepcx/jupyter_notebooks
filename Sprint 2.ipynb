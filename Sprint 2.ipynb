{
 "cells": [
  {
   "cell_type": "markdown",
   "metadata": {},
   "source": [
    "# Sprint 2"
   ]
  },
  {
   "cell_type": "markdown",
   "metadata": {},
   "source": [
    "### Imports"
   ]
  },
  {
   "cell_type": "code",
   "execution_count": 6,
   "metadata": {},
   "outputs": [],
   "source": [
    "import numpy as np\n",
    "from IPython.display import display, HTML"
   ]
  },
  {
   "cell_type": "code",
   "execution_count": 7,
   "metadata": {},
   "outputs": [],
   "source": [
    "# possible states\n",
    "D = np.array([1,0,0])\n",
    "C = np.array([0,1,0])\n",
    "O = np.array([0,0,1])\n",
    "\n",
    "states =[D,C,O]"
   ]
  },
  {
   "cell_type": "code",
   "execution_count": 8,
   "metadata": {},
   "outputs": [],
   "source": [
    "# \"classic\" probability\n",
    "w_classic = np.array([[0.8,0.1,0.1],[0.5,0.3,0.2],[0.1,0.7,0.2]])"
   ]
  },
  {
   "cell_type": "markdown",
   "metadata": {},
   "source": [
    "### Helper functions\n"
   ]
  },
  {
   "cell_type": "code",
   "execution_count": 228,
   "metadata": {},
   "outputs": [],
   "source": [
    "def change_state( state, style ):\n",
    "    '''\n",
    "    given a state \"state\" I return the next state\n",
    "    style = ['classic','random','aggressive'] chooses the transitional matrix\n",
    "    '''\n",
    "    # input check\n",
    "    if style not in ['classic','random','aggressive']:\n",
    "        print('ERROR: style', style, 'is not accepted')\n",
    "        return\n",
    "    if (False in (state == D)) and (False in (state == C)) and (False in (state == O)):\n",
    "        print('ERROR: state', state, 'is not accepted')\n",
    "        return\n",
    "    # actual calculations\n",
    "    if style == 'classic':\n",
    "        w = np.array([[0.8,0.1,0.1],[0.5,0.3,0.2],[0.1,0.7,0.2]])\n",
    "    elif style == 'random':\n",
    "        w = np.array([[0.2,0.7,0.1],[0,1,0],[0.2,0.7,0.1]])\n",
    "    else:\n",
    "        w = np.array([[0.01,0.14,0.85],[0.45,0.2,0.35],[0.01,0.09,0.9]])\n",
    "    v = w.T.dot(state)\n",
    "    x = np.random.rand() # random number in [0,1)\n",
    "    bounds = np.cumsum(v)\n",
    "    if x <= bounds[0]:\n",
    "        return D\n",
    "    elif x <= bounds[1]:\n",
    "        return C\n",
    "    else:\n",
    "        return O\n",
    "\n",
    "def select_card( state ):\n",
    "    '''\n",
    "    given a state \"state\"\n",
    "    return a type of card, either \"strength\" (0) or \"action\" (1)\n",
    "    '''\n",
    "    if (False in (state == D)) and (False in (state == C)) and (False in (state == O)):\n",
    "        print('ERROR: state', state, 'is not accepted')\n",
    "        return\n",
    "    E = np.array([[0.8,0.2],[0.5,0.5],[0.3,0.7]])\n",
    "    v = E.T.dot(state)\n",
    "    x = np.random.rand()\n",
    "    if x <= v[0]:\n",
    "        return 0\n",
    "    else:\n",
    "        return 1\n",
    "    \n",
    "def extract_strength():\n",
    "    x = np.random.rand()\n",
    "    bounds = [0.6,0.9,1]\n",
    "    if x < bound[0]:\n",
    "        return 1\n",
    "    elif x < bound[1]:\n",
    "        return 2\n",
    "    else:\n",
    "        return 4\n",
    "    \n",
    "def extract_action():\n",
    "    x = np.random.rand()\n",
    "    if x < 0.9:\n",
    "        return '0el'\n",
    "    else:\n",
    "        return 'Spinat'"
   ]
  },
  {
   "cell_type": "code",
   "execution_count": 9,
   "metadata": {},
   "outputs": [],
   "source": [
    "start = D\n",
    "N = 10000\n",
    "my_states = np.zeros((N, 3))\n",
    "my_states[0, :] = D"
   ]
  },
  {
   "cell_type": "code",
   "execution_count": 10,
   "metadata": {},
   "outputs": [
    {
     "ename": "NameError",
     "evalue": "name 'change_state' is not defined",
     "output_type": "error",
     "traceback": [
      "\u001b[0;31m---------------------------------------------------------------------------\u001b[0m",
      "\u001b[0;31mNameError\u001b[0m                                 Traceback (most recent call last)",
      "\u001b[0;32m<ipython-input-10-20ec8b2cc614>\u001b[0m in \u001b[0;36m<module>\u001b[0;34m()\u001b[0m\n\u001b[1;32m      3\u001b[0m \u001b[0;34m\u001b[0m\u001b[0m\n\u001b[1;32m      4\u001b[0m \u001b[0;32mfor\u001b[0m \u001b[0mi\u001b[0m \u001b[0;32min\u001b[0m \u001b[0mrange\u001b[0m\u001b[0;34m(\u001b[0m\u001b[0mN\u001b[0m\u001b[0;34m-\u001b[0m\u001b[0;36m1\u001b[0m\u001b[0;34m)\u001b[0m\u001b[0;34m:\u001b[0m\u001b[0;34m\u001b[0m\u001b[0;34m\u001b[0m\u001b[0m\n\u001b[0;32m----> 5\u001b[0;31m     \u001b[0mmy_states\u001b[0m\u001b[0;34m[\u001b[0m\u001b[0mi\u001b[0m\u001b[0;34m+\u001b[0m\u001b[0;36m1\u001b[0m\u001b[0;34m]\u001b[0m \u001b[0;34m=\u001b[0m \u001b[0mchange_state\u001b[0m\u001b[0;34m(\u001b[0m \u001b[0mmy_states\u001b[0m\u001b[0;34m[\u001b[0m\u001b[0mi\u001b[0m\u001b[0;34m]\u001b[0m\u001b[0;34m,\u001b[0m \u001b[0;34m'aggressive'\u001b[0m \u001b[0;34m)\u001b[0m\u001b[0;34m\u001b[0m\u001b[0;34m\u001b[0m\u001b[0m\n\u001b[0m",
      "\u001b[0;31mNameError\u001b[0m: name 'change_state' is not defined"
     ]
    }
   ],
   "source": [
    "from matplotlib import pyplot as plt\n",
    "%matplotlib inline\n",
    "\n",
    "for i in range(N-1):\n",
    "    my_states[i+1] = change_state( my_states[i], 'aggressive' )"
   ]
  },
  {
   "cell_type": "code",
   "execution_count": null,
   "metadata": {},
   "outputs": [],
   "source": [
    "prob = [ np.argmax(my_states[i]) for i in range(N)]\n",
    "plt.hist(prob)\n",
    "plt.xlim(0,2)\n",
    "plt.title('Histogram aggressive mode with states (left to right D,C,O)')\n",
    "plt.savefig('aggressive mode')\n",
    "#plt.yscale('log')"
   ]
  },
  {
   "cell_type": "markdown",
   "metadata": {},
   "source": [
    "### Forward Algorithm"
   ]
  },
  {
   "cell_type": "markdown",
   "metadata": {},
   "source": [
    "The forward algorithm, in the context of a hidden Markov model (HMM), is used to calculate a 'belief state': the probability of a state at a certain time, given the history of evidence. The process is also known as filtering. The forward algorithm is closely related to, but distinct from, the Viterbi algorithm.\n",
    "\n",
    "### For an HMM such as this one:"
   ]
  },
  {
   "cell_type": "code",
   "execution_count": 198,
   "metadata": {},
   "outputs": [
    {
     "data": {
      "text/html": [
       "<img src=\"https://gleis1.ch/wp-content/uploads/2019/03/600px-Hmm_temporal_bayesian_net.svg_.png\">"
      ],
      "text/plain": [
       "<IPython.core.display.HTML object>"
      ]
     },
     "metadata": {},
     "output_type": "display_data"
    }
   ],
   "source": [
    "display(HTML('''<img src=\"https://gleis1.ch/wp-content/uploads/2019/03/600px-Hmm_temporal_bayesian_net.svg_.png\">'''))"
   ]
  },
  {
   "cell_type": "markdown",
   "metadata": {},
   "source": [
    "This probability is written as $P(x_t | y_{1:t} )$. Here ${x(t)}$ is the hidden state which is abbreviated as ${x_{t}}$ and ${ y_{1:t}}$ are the observations ${1}$ to ${t}$ t. A belief state can be calculated at each time step, but doing this does not, in a strict sense, produce the most likely state sequence, but rather the most likely state at each time step, given the previous history."
   ]
  },
  {
   "cell_type": "markdown",
   "metadata": {},
   "source": [
    "The goal of the forward algorithm is to compute the joint probability $p(x_{t},y_{{1:t}})$, where for notational convenience we have abbreviated ${x(t)}$ as ${ x_{t}}$ and $(y(1),y(2),...,y(t))$ as ${ y_{1:t}}$ Computing $p(x_{t},y_{{1:t}})$directly would require marginalizing over all possible state sequences $\\{ x_{ { 1:t-1 } }\\} $ , the number of which grows exponentially with ${t}$. Instead, the forward algorithm takes advantage of the conditional independence rules of the hidden Markov model (HMM) to perform the calculation recursively."
   ]
  },
  {
   "cell_type": "markdown",
   "metadata": {},
   "source": [
    "to demostrate the recursion, let <br>\n",
    "$\\alpha _{t}(x_{t})=p(x_{t},y_{{1:t}})=\\sum _{{x_{{t-1}}}}p(x_{t},x_{{t-1}},y_{{1:t}})$\n",
    "<br> <br>\n",
    "Using the cahin rule to expand $p(x_{t},x_{{t-1}},y_{{1:t}})$, we can write <br>\n",
    "$\\alpha _{t}(x_{t})=\\sum _{{x_{{t-1}}}}p(y_{t}|x_{t},x_{{t-1}},y_{{1:t-1}})p(x_{t}|x_{{t-1}},y_{{1:t-1}})p(x_{{t-1}},y_{{1:t-1}})$   <br><br>\n",
    "Because ${y_{t}}$  is conditionally independent of everything but ${x_{t}}$, and ${x_{t}}$ is conditionally independent of everything but ${x_{t-1}}$, this simplifies to <br>\n",
    "$\\alpha _{ t }(x_{ t })=p(y_{ t }|x_{ t })\\sum _{ { x_{ { t-1 } } } } p(x_{ t }|x_{ { t-1 } })\\alpha _{ { t-1 } }(x_{ { t-1 } })$ <br><br>\n",
    "Thus, since ${p(y_{t}|x_{t})}$ ) and ${p(x_{t}|x_{t-1})}$  are given by the model's emission distributions and transition probabilities, one can quickly calculate ${\\alpha _{t}(x_{t})}$ from ${\\alpha _{t-1}(x_{t-1})}$ and avoid incurring exponential computation time.\n",
    "\n"
   ]
  },
  {
   "cell_type": "markdown",
   "metadata": {},
   "source": [
    "***\n",
    "### Source: Wikipedia \n",
    "<a href=\"https://en.wikipedia.org/wiki/Forward_algorithm\"> link</a>\n"
   ]
  },
  {
   "cell_type": "code",
   "execution_count": 42,
   "metadata": {},
   "outputs": [],
   "source": [
    "w = np.array([[0.8,0.1,0.1],[0.5,0.3,0.2],[0.1,0.7,0.2]]) # transitional probability classic\n",
    "#w = np.array([[0.2,0.7,0.1],[0,1,0],[0.2,0.7,0.1]]) # random\n",
    "#w = np.array([[0.01,0.14,0.85],[0.45,0.2,0.35],[0.01,0.09,0.9]]) # aggressive\n",
    "E = np.array([[0.8,0.2],[0.5,0.5],[0.3,0.7]]) # Extraction probabiility\n",
    "\n",
    "N = 40\n",
    "X = [D,C,O]\n",
    "x_t = np.zeros((N,3,3))\n",
    "x_t[0,:,:] = X\n",
    "for i in range(N-1):\n",
    "    x_t[i+1,:,:] = w.T.dot(x_t[i,:,:])"
   ]
  },
  {
   "cell_type": "code",
   "execution_count": 20,
   "metadata": {},
   "outputs": [
    {
     "data": {
      "text/plain": [
       "array([[0.63636364, 0.63636364, 0.63636364],\n",
       "       [0.22727273, 0.22727273, 0.22727273],\n",
       "       [0.13636364, 0.13636364, 0.13636364]])"
      ]
     },
     "execution_count": 20,
     "metadata": {},
     "output_type": "execute_result"
    }
   ],
   "source": [
    "x_t[500]"
   ]
  },
  {
   "cell_type": "code",
   "execution_count": 27,
   "metadata": {},
   "outputs": [
    {
     "data": {
      "text/plain": [
       "(2, 1000, 3)"
      ]
     },
     "execution_count": 27,
     "metadata": {},
     "output_type": "execute_result"
    }
   ],
   "source": [
    "p = E.T.dot(x_t)\n",
    "p.shape"
   ]
  },
  {
   "cell_type": "code",
   "execution_count": 64,
   "metadata": {},
   "outputs": [],
   "source": [
    "#p('strength'|x_t)\n",
    "p = [ E.T.dot(x_t)[np.random.randint(0,1)] for i in range(N)]\n",
    "alpha_t = E[:,0] \n",
    "alphas = np.zeros((N,3))\n",
    "alphas[0] = alpha_t\n",
    "for i in range(N-1):\n",
    "    alphas[i+1] = p[i+1][3]*(w.dot(alphas[i]))\n"
   ]
  },
  {
   "cell_type": "code",
   "execution_count": 65,
   "metadata": {},
   "outputs": [
    {
     "data": {
      "image/png": "[encoded data removed]",
      "text/plain": [
       "<matplotlib.figure.Figure at 0x11d6f26d8>"
      ]
     },
     "metadata": {},
     "output_type": "display_data"
    }
   ],
   "source": [
    "plt.plot(alphas)\n",
    "plt.yscale('log')"
   ]
  },
  {
   "cell_type": "code",
   "execution_count": 221,
   "metadata": {},
   "outputs": [
    {
     "data": {
      "text/plain": [
       "array([[0.8      , 0.5      , 0.3      ],\n",
       "       [0.576    , 0.305    , 0.147    ],\n",
       "       [0.4048   , 0.20445  , 0.09015  ],\n",
       "       [0.28264  , 0.1408825, 0.0604875]])"
      ]
     },
     "execution_count": 221,
     "metadata": {},
     "output_type": "execute_result"
    }
   ],
   "source": [
    "alphas"
   ]
  },
  {
   "cell_type": "code",
   "execution_count": 222,
   "metadata": {},
   "outputs": [
    {
     "name": "stdout",
     "output_type": "stream",
     "text": [
      "0.4840100000000003\n"
     ]
    }
   ],
   "source": [
    "alphas_sum = np.sum(alphas, axis=1)\n",
    "# Y = 4\n",
    "print(alphas_sum[3]) # last element in the chain "
   ]
  },
  {
   "cell_type": "code",
   "execution_count": 174,
   "metadata": {},
   "outputs": [],
   "source": [
    "\n",
    "#plt.plot(alphas)\n",
    "# plt.yscale('log')\n",
    "#plt.title('probability of inner state strength') # beeing in a state D if extracted a strength card\n",
    "# plt.savefig('probability of inner state strength N= 100') # the longer you wait, the lesser the probability"
   ]
  },
  {
   "cell_type": "code",
   "execution_count": 214,
   "metadata": {},
   "outputs": [],
   "source": [
    "#p('action'|x_t)\n",
    "p = [ E.T.dot(x_t)[np.random.randint(0,1)] for i in range(N)]\n",
    "alpha_t = E[:,1] \n",
    "alphas = np.zeros((N,3))\n",
    "alphas[0] = alpha_t\n",
    "for i in range(N-1):\n",
    "    alphas[i+1] = p[i+1][0]*(w.dot(alphas[i]))"
   ]
  },
  {
   "cell_type": "code",
   "execution_count": 215,
   "metadata": {},
   "outputs": [
    {
     "name": "stdout",
     "output_type": "stream",
     "text": [
      "0.1518362198\n"
     ]
    }
   ],
   "source": [
    "alphas_sum = np.sum(alphas, axis=1)\n",
    "\n",
    "print(alphas_sum[3]) # last element in the chain "
   ]
  },
  {
   "cell_type": "code",
   "execution_count": 209,
   "metadata": {},
   "outputs": [],
   "source": [
    "#plt.plot(alphas_sum,Y,'+')\n",
    "#plt.hist(alphas_sum)\n",
    "#plt.plot(alphas)\n",
    "#plt.yscale('log')\n",
    "#plt.title('probability of inner state action') # beeing in a state D if extracted a strength card\n",
    "#plt.savefig('probability of inner state action N= 100') # the longer you wait, the lesser the probability"
   ]
  },
  {
   "cell_type": "markdown",
   "metadata": {},
   "source": [
    "### Viterbi Algorithm\n",
    "\n",
    "The Viterbi algorithm is a dynamic programming algorithm for finding the most likely sequence of hidden states—called the Viterbi path—that results in a sequence of observed events, especially in the context of Markov information sources and hidden Markov models.\n",
    "\n",
    "The algorithm has found universal application in decoding the convolutional codes used in both CDMA and GSM digital cellular, dial-up modems, satellite, deep-space communications, and 802.11 wireless LANs. It is now also commonly used in speech recognition, speech synthesis, diarization, keyword spotting, computational linguistics, and bioinformatics. For example, in speech-to-text (speech recognition), the acoustic signal is treated as the observed sequence of events, and a string of text is considered to be the \"hidden cause\" of the acoustic signal. The Viterbi algorithm finds the most likely string of text given the acoustic signal.\n",
    "\n",
    "\n",
    "#### INPUT\n",
    "* the observation space $O=\\{o_{1},o_{2},\\dots ,o_{N}\\}$ <br>\n",
    "* the state space $S=\\{s_{1},s_{2},\\dots ,s_{K}\\}$\n",
    "* an array of initial probabilities ${\\displaystyle \\Pi =(\\pi _{1},\\pi _{2},\\dots ,\\pi _{K})} $ such that ${\\displaystyle \\pi _{i}} $ stores the probability that $x_{1}==s_{i}$\n",
    "* a sequence of observations ${\\displaystyle Y=(y_{1},y_{2},\\ldots ,y_{T})} $ such that $y_{t}==i$ if the observation at time ${t}$ is $o_{i}$\n",
    "* transition matrix ${A}$ of size $ K\\times K $ such that $A_{ij}$stores the transition probability of transiting from state $s_{i} $ to state $s_{j} $.\n",
    "* emission matrix ${B}$ of size $ K\\times N  $ such that $B_{ij}$ stores the probability of observing $o_{j} $ from state $s_{i} $.\n",
    "<br> <br>\n",
    "\n",
    "#### OUTPUT\n",
    "* The most likely hidden state sequence ${\\displaystyle X=(x_{1},x_{2},\\ldots ,x_{N})}$\n",
    "\n",
    "<br>\n",
    "\n",
    "### Pseudocode:\n"
   ]
  },
  {
   "cell_type": "code",
   "execution_count": 195,
   "metadata": {},
   "outputs": [
    {
     "data": {
      "text/html": [
       "<img src=\"https://gleis1.ch/wp-content/uploads/2019/03/Pseudocode-viterbi.png\">"
      ],
      "text/plain": [
       "<IPython.core.display.HTML object>"
      ]
     },
     "metadata": {},
     "output_type": "display_data"
    }
   ],
   "source": [
    "display(HTML('''<img src=\"https://gleis1.ch/wp-content/uploads/2019/03/Pseudocode-viterbi.png\">'''))"
   ]
  },
  {
   "cell_type": "markdown",
   "metadata": {},
   "source": [
    "***\n",
    "### Source: Wikipedia \n",
    "<a href=\"https://en.wikipedia.org/wiki/Viterbi_algorithm\"> link</a>"
   ]
  },
  {
   "cell_type": "code",
   "execution_count": 67,
   "metadata": {},
   "outputs": [],
   "source": [
    "alpha_t = np.zeros((N,3))\n",
    "#alpha_t[0,:] = [0.2,0.5,0.7] # P(action|x_t[0])\n",
    "alpha_t[0,:] = [0.8,0.5,0.1] # P(strength|x_t[0])"
   ]
  },
  {
   "cell_type": "code",
   "execution_count": 90,
   "metadata": {},
   "outputs": [],
   "source": [
    "#w = np.array([[0.8,0.1,0.1],[0.5,0.3,0.2],[0.1,0.7,0.2]]) # classic\n",
    "#w = np.array([[0.2,0.7,0.1],[0,1,0],[0.2,0.7,0.1]]) # random\n",
    "w = np.array([[0.01,0.14,0.85],[0.45,0.2,0.35],[0.01,0.09,0.9]]) # aggressive\n",
    "T = 10 # length of the path\n",
    "K = 3 # number of possible states\n",
    "y = [ int( np.random.rand()*2) for i in range(T) ]\n",
    "x = np.zeros((T,3))\n",
    "t1 = np.zeros((K,T))\n",
    "t2 = np.zeros((K,T),dtype=int)\n",
    "for j in range(K):\n",
    "    t1[j,0] = states[j].dot(E[:,y[0]])\n",
    "for i in range(1,T):\n",
    "    for j in range(K):\n",
    "        t1[j,i] = np.max([ t1[k,i-1]* w[k,j]*(E[j,y[i]]) for k in range(K) ])\n",
    "        t2[j,i] = int(np.argmax([ t1[k,i-1]* w[k,j]*(E[j,y[i]]) for k in range(K) ]))"
   ]
  },
  {
   "cell_type": "code",
   "execution_count": 91,
   "metadata": {},
   "outputs": [],
   "source": [
    "z = np.argmax(t1[:,T-1])\n",
    "x[T-1] = states[z]"
   ]
  },
  {
   "cell_type": "code",
   "execution_count": 92,
   "metadata": {},
   "outputs": [
    {
     "data": {
      "text/plain": [
       "array([[0, 1, 1, 1, 1, 1, 1, 1, 1, 1],\n",
       "       [0, 0, 2, 2, 2, 2, 2, 2, 2, 2],\n",
       "       [0, 0, 2, 2, 2, 2, 2, 2, 2, 2]])"
      ]
     },
     "execution_count": 92,
     "metadata": {},
     "output_type": "execute_result"
    }
   ],
   "source": [
    "t2"
   ]
  },
  {
   "cell_type": "code",
   "execution_count": 93,
   "metadata": {},
   "outputs": [
    {
     "name": "stdout",
     "output_type": "stream",
     "text": [
      "[array([1, 0, 0]), array([0, 1, 0]), array([0, 0, 1])]\n",
      "[[1. 0. 0.]\n",
      " [0. 0. 1.]\n",
      " [0. 0. 1.]\n",
      " [0. 0. 1.]\n",
      " [0. 0. 1.]\n",
      " [0. 0. 1.]\n",
      " [0. 0. 1.]\n",
      " [0. 0. 1.]\n",
      " [0. 0. 1.]\n",
      " [0. 0. 1.]]\n"
     ]
    }
   ],
   "source": [
    "for i in range(T-2,-1,-1):\n",
    "    z = t2[z,i+1]\n",
    "    x[i] = states[z]\n",
    "print(states) \n",
    "print(x)"
   ]
  },
  {
   "cell_type": "code",
   "execution_count": 305,
   "metadata": {},
   "outputs": [],
   "source": [
    "#plt.plot(x)\n",
    "# plt.xscale('log')\n",
    "#plt.title('Aggressive mode, action \"Viterbi\"') # beeing in a state D if extracted a strength card\n",
    "#plt.savefig('Agressive mode, action Viterbi T = 10') # the longer the time, the lesser the probability"
   ]
  },
  {
   "cell_type": "code",
   "execution_count": 306,
   "metadata": {},
   "outputs": [
    {
     "name": "stdout",
     "output_type": "stream",
     "text": [
      "classic mode & strength card: \n",
      "\n",
      "[[0. 1. 0.]\n",
      " [0. 1. 0.]\n",
      " [0. 1. 0.]\n",
      " [0. 1. 0.]\n",
      " [0. 1. 0.]\n",
      " [0. 1. 0.]\n",
      " [0. 1. 0.]\n",
      " [0. 1. 0.]\n",
      " [0. 1. 0.]\n",
      " [0. 1. 0.]]\n",
      "\n",
      "Sequence\n",
      "[1, 1, 1, 0, 1, 0, 1, 0, 0, 1]\n"
     ]
    }
   ],
   "source": [
    "print('classic mode & strength card: \\n')\n",
    "print(x) # print the highest probable state depening on the play type\n",
    "#print('\\n')\n",
    "print('\\nSequence')\n",
    "print(y) # sequence\n"
   ]
  },
  {
   "cell_type": "markdown",
   "metadata": {},
   "source": [
    "### Baum Welch Algorithm"
   ]
  },
  {
   "cell_type": "markdown",
   "metadata": {},
   "source": [
    "A hidden Markov model describes the joint probability of a collection of \"hidden\" and observed discrete random variables. It relies on the assumption that the i-th hidden variable given the (i − 1)-th hidden variable is independent of previous hidden variables, and the current observation variables depend only on the current hidden state.\n",
    "\n",
    "The Baum–Welch algorithm uses the well known EM algorithm to find the maximum likelihood estimate of the parameters of a hidden Markov model given a set of observed feature vectors.\n",
    "\n",
    "\n",
    "#### Forward procedure:\n",
    "\n",
    "Let ${\\displaystyle \\alpha _{i}(t)=P(Y_{1}=y_{1},...,Y_{t}=y_{t},X_{t}=i|\\theta )} \\alpha _{i}(t)=P(Y_{1}=y_{1},...,Y_{t}=y_{t},X_{t}=i|\\theta )$, the probability of seeing the $y_{1},y_{2},...,y_{t}$ in state ${i}$ at time ${t}$. This is found recursively:\n",
    "\n",
    "1. ${\\displaystyle \\alpha _{i}(1)=\\pi _{i}b_{i}(y_{1}),}$\n",
    "2. ${\\displaystyle \\alpha _{i}(t+1)=b_{i}(y_{t+1})\\sum _{j=1}^{N}\\alpha _{j}(t)a_{ji}.}$\n",
    "\n",
    "\n",
    "#### Backward procedure:\n",
    "\n",
    "Let $\\beta _{ i }(t)=P(Y_{ t+1 }=y_{ t+1 },...,Y_{ T }=y_{ T }|X_{ t }=i,\\theta )$, that is the probability of  the ending partial sequence $y_{t+1},...,y_{T}$ given starting state ${i}$ at time ${t}$. We calculate $ \\beta _{i}(t)$ as,\n",
    "1. ${ \\beta _{ i }(T)=1, }$\n",
    "2. $ \\beta _{ i }(t)=\\sum _{ j=1 }^{ N } \\beta _{ j }(t+1)a_{ ij }b_{ j }(y_{ t+1 }). $\n",
    "\n",
    "\n",
    "#### Update\n",
    "\n",
    "We can now calculate the temporary variables, according to Bayes' theorem:\n",
    "\n",
    "${\\displaystyle \\gamma _{i}(t)=P(X_{t}=i|Y,\\theta )={\\frac {P(X_{t}=i,Y|\\theta )}{P(Y|\\theta )}}={\\frac {\\alpha _{i}(t)\\beta _{i}(t)}{\\sum _{j=1}^{N}\\alpha _{j}(t)\\beta _{j}(t)}},}$\n",
    "\n",
    "which is the probability of being in state ${i}$ at time ${t}$ given the observed sequence ${Y}$ and the parameters $\\theta $ \n",
    "\n",
    "${\\displaystyle \\xi _{ij}(t)=P(X_{t}=i,X_{t+1}=j|Y,\\theta )={\\frac {P(X_{t}=i,X_{t+1}=j,Y|\\theta )}{P(Y|\\theta )}}={\\frac {\\alpha _{i}(t)a_{ij}\\beta _{j}(t+1)b_{j}(y_{t+1})}{\\sum _{i=1}^{N}\\sum _{j=1}^{N}\\alpha _{i}(t)a_{ij}\\beta _{j}(t+1)b_{j}(y_{t+1})}},}$\n",
    "\n",
    "which is the probability of being in state ${i}$ and ${j}$ at times ${t}$ and ${t+1}$ respectively given the observed sequence ${Y}$ and parameters $\\theta$.\n",
    "\n",
    "The denominators of ${ \\gamma _{ i }(t)}$ and ${ \\xi _{ ij }(t) } $ are the same; they represent the probability of making the observation ${Y}$ given the parameters $\\theta$.\n",
    "\n",
    "The parameters of the hidden Markov model $\\theta$  can now be updated:\n",
    "\n",
    "* ${\\displaystyle \\pi _{i}^{*}=\\gamma _{i}(1),}$ <br>\n",
    "\n",
    "which is the expected frequency spent in state ${i}$ at time ${1}$.\n",
    "\n",
    "* ${ \\pi _{ i }^{ * }=\\gamma _{ i }(1){\\displaystyle a_{ij}^{*}={\\frac {\\sum _{t=1}^{T-1}\\xi _{ij}(t)}{\\sum _{t=1}^{T-1}\\gamma _{i}(t)}},} }$\n",
    "\n",
    "which is the expected number of transitions from state ${i}$ to state ${j}$ compared to the expected total number of transitions away from state i. To clarify, the number of transitions away from state i does not mean transitions to a different state j, but to any state including itself. This is equivalent to the number of times state i is observed in the sequence from ${t = 1}$ to ${t = T − 1}$.\n",
    "\n",
    "* ${\\displaystyle b_{i}^{*}(v_{k})={\\frac {\\sum _{t=1}^{T}1_{y_{t}=v_{k}}\\gamma _{i}(t)}{\\sum _{t=1}^{T}\\gamma _{i}(t)}},}$ <br>\n",
    "where <br>\n",
    "\n",
    "${\\displaystyle 1_{y_{t}=v_{k}}={\\begin{cases}1&{\\text{if }}y_{t}=v_{k},\\\\0&{\\text{otherwise}}\\\\\\end{cases}}}$\n",
    "\n",
    "is an indicator function, and ${b_{i}^{*}(v_{k})} b_{i}^{*}(v_{k})$ is the expected number of times the output observations have been equal to ${ v_{k}}$ while in state ${i}$ over the expected total number of times in state ${i}$.\n",
    "\n",
    "These steps are now repeated iteratively until a desired level of convergence.\n",
    "\n",
    "<b>Note:</b> It is possible to over-fit a particular data set. That is,${\\displaystyle P(Y|\\theta _{\\text{final}})>P(Y|\\theta _{\\text{true}})}$. The algorithm also does <b>not</b>  guarantee a global maximum."
   ]
  },
  {
   "cell_type": "markdown",
   "metadata": {},
   "source": [
    "***\n",
    "### Source: Wikipedia \n",
    "\n",
    "<a href=\"https://en.wikipedia.org/wiki/Baum%E2%80%93Welch_algorithm\"> link</a>"
   ]
  },
  {
   "cell_type": "code",
   "execution_count": 20,
   "metadata": {},
   "outputs": [],
   "source": [
    "y = [0,1,1,1,0,0] # SEQUENCE OBTAINED BY CLASSIC W\n",
    "T = len(y)\n",
    "# initial guess\n",
    "w_0 = np.random.rand(3,3)\n",
    "for i in range(3):\n",
    "    w_0[i,:] = w_0[i,:]/sum(w_0[i,:])\n",
    "e_0 = np.random.rand(3,2)\n",
    "for i in range(3):\n",
    "    e_0[i,:] = e_0[i,:]/sum(e_0[i,:])\n",
    "pi_0 = np.random.rand(3,1)\n",
    "pi_0 /= sum(pi_0)"
   ]
  },
  {
   "cell_type": "code",
   "execution_count": 25,
   "metadata": {},
   "outputs": [],
   "source": [
    "'''first step'''\n",
    "#pi=pi_0\n",
    "#b = e_0\n",
    "#a = w_0\n",
    "def step_Baum_Welch(y, pi,a,b ):\n",
    "    T = len(y)\n",
    "    alphas = np.zeros((T,3))\n",
    "    alphas[0] = pi.T*(b[:,y[0]])\n",
    "    for t in range(0,T-1):\n",
    "        for i in range(3):\n",
    "            alphas[t+1,i] = b[i,y[t+1]]*( alphas[t].dot(a[:,i]) )\n",
    "    betas = np.zeros((T,3))\n",
    "    betas[-1] = 1.\n",
    "    for t in range(T-2,-1,-1):\n",
    "        for i in range(3):\n",
    "            betas[t,i] =  betas[t+1,i]*a[i,:].dot(b[:,y[t]]) \n",
    "    gammas = np.zeros((T,3))\n",
    "    for t in range(0,T):\n",
    "        for i in range(3):\n",
    "            gammas[t,i] = (alphas[t,i]*betas[t,i])/(alphas[t].dot(betas[t]))\n",
    "    xi = np.zeros((T,3,3))\n",
    "    for t in range(0,T-1):\n",
    "        den = 0\n",
    "        for i in range(3):\n",
    "            for j in range(3):\n",
    "                den += alphas[t,i]*a[i,j]*betas[t+1,j]*(b[j,y[t+1]])\n",
    "        for i in range(3):\n",
    "            for j in range(3):\n",
    "                xi[t,i,j] = (alphas[t,i]*a[i,j]*betas[t+1,j]*b[j,y[t+1]])/den\n",
    "    newpi = gammas[0]\n",
    "    #print(xi[2])\n",
    "    newa = np.zeros((3,3))\n",
    "    for i in range(3):\n",
    "        for j in range(3):\n",
    "            newa[i,j] = np.sum(xi[:,i,j])/np.sum(gammas[:,i])\n",
    "    newb = np.zeros((3,2))\n",
    "    for i in range(3):\n",
    "        newb[i,:] = [ -(1-np.array(y)).dot(gammas[:,i]) , np.array(y).dot(gammas[:,i])]/np.sum(gammas[:,i])\n",
    "    return newpi, newa, newb"
   ]
  },
  {
   "cell_type": "code",
   "execution_count": 26,
   "metadata": {},
   "outputs": [],
   "source": [
    "pi,a,b = step_Baum_Welch(y, pi_0,w_0,e_0 )"
   ]
  },
  {
   "cell_type": "code",
   "execution_count": 27,
   "metadata": {},
   "outputs": [],
   "source": [
    "value = []\n",
    "for i in range(200):\n",
    "    value.append(a[0,0])\n",
    "    pi,a,b = step_Baum_Welch(y, pi,a,b )"
   ]
  },
  {
   "cell_type": "code",
   "execution_count": 34,
   "metadata": {},
   "outputs": [
    {
     "data": {
      "image/png": "[encoded data removed]",
      "text/plain": [
       "<matplotlib.figure.Figure at 0x11cab1898>"
      ]
     },
     "metadata": {},
     "output_type": "display_data"
    }
   ],
   "source": [
    "plt.plot(value)\n",
    "plt.title('Probability')\n",
    "plt.yscale('log')\n",
    "plt.savefig('Welch Baum')"
   ]
  },
  {
   "cell_type": "code",
   "execution_count": 29,
   "metadata": {},
   "outputs": [
    {
     "data": {
      "text/plain": [
       "array([[0.00000000e+000, 1.02088003e+000, 0.00000000e+000],\n",
       "       [4.45685955e-198, 6.60789184e-001, 3.22369859e-001],\n",
       "       [1.51787365e-002, 3.99924626e-299, 4.82323144e-001]])"
      ]
     },
     "execution_count": 29,
     "metadata": {},
     "output_type": "execute_result"
    }
   ],
   "source": [
    "a"
   ]
  },
  {
   "cell_type": "code",
   "execution_count": null,
   "metadata": {},
   "outputs": [],
   "source": []
  }
 ],
 "metadata": {
  "kernelspec": {
   "display_name": "Python 3",
   "language": "python",
   "name": "python3"
  },
  "language_info": {
   "codemirror_mode": {
    "name": "ipython",
    "version": 3
   },
   "file_extension": ".py",
   "mimetype": "text/x-python",
   "name": "python",
   "nbconvert_exporter": "python",
   "pygments_lexer": "ipython3",
   "version": "3.6.8"
  }
 },
 "nbformat": 4,
 "nbformat_minor": 2
}
